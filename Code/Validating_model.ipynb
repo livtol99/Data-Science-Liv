{
 "cells": [
  {
   "cell_type": "markdown",
   "metadata": {},
   "source": [
    "# Validating Cluster Model Performance"
   ]
  },
  {
   "cell_type": "markdown",
   "metadata": {},
   "source": [
    "#### What is left to do?\n",
    "- Compute the MAPE/sMAPE validation metrics\n",
    "- Visualise the forecasts for all clusters in a smart way and compare it to the actual data"
   ]
  },
  {
   "cell_type": "markdown",
   "metadata": {},
   "source": [
    "#### Install and import packages\n"
   ]
  },
  {
   "cell_type": "code",
   "execution_count": 3,
   "metadata": {},
   "outputs": [],
   "source": [
    "#Imports\n",
    "\n",
    "# multiprocessing\n",
    "from joblib import Parallel, delayed\n",
    "\n",
    "# data manipulation\n",
    "import numpy as np\n",
    "import pandas as pd\n",
    "import heapq\n",
    "\n",
    "# data visualization\n",
    "import matplotlib.pyplot as plt\n",
    "%matplotlib inline\n",
    "import seaborn as sns\n",
    "from tqdm import tqdm\n",
    "\n",
    "#hmm needed? \n",
    "import torch\n",
    "import torch.nn as nn\n",
    "#from torch import nn\n",
    "import torch.optim as optim\n",
    "import shutil\n",
    "import sklearn\n",
    "from sklearn.preprocessing import MinMaxScaler\n",
    "#from tqdm import tqdm_notebook as tqdm\n",
    "\n",
    "#darts\n",
    "# transformers and preprocessing\n",
    "import darts\n",
    "from darts import TimeSeries\n",
    "from darts.dataprocessing.transformers import Scaler\n",
    "from darts.utils.utils import SeasonalityMode, TrendMode, ModelMode\n",
    "from darts.utils.statistics import check_seasonality, plot_acf\n",
    "from darts.utils.timeseries_generation import datetime_attribute_timeseries\n",
    "from darts.models import * #everything\n",
    "\n",
    "#loss metrics\n",
    "from darts.metrics import mape\n",
    "from darts.metrics import smape\n",
    "from darts.utils.losses import SmapeLoss\n",
    "\n",
    "# likelihood\n",
    "from darts.utils.likelihood_models import GaussianLikelihood\n",
    "\n",
    "# settings\n",
    "import warnings\n",
    "warnings.filterwarnings(\"ignore\")\n",
    "import logging\n",
    "logging.disable(logging.CRITICAL)\n",
    "\n",
    "\n",
    "#extras\n",
    "import os\n",
    "import time\n",
    "import random\n",
    "from datetime import datetime\n",
    "from itertools import product\n",
    "from typing import List, Tuple, Dict\n",
    "from sklearn.preprocessing import MaxAbsScaler\n",
    "from sklearn.linear_model import Ridge\n",
    "import glob"
   ]
  },
  {
   "cell_type": "markdown",
   "metadata": {},
   "source": [
    "#### Load data\n",
    "Consider making this a bit more smooth (glob.glob to access all files at the same time)"
   ]
  },
  {
   "cell_type": "code",
   "execution_count": 4,
   "metadata": {},
   "outputs": [],
   "source": [
    "cl1 = pd.read_csv('/work/Data-Science-Liv/cluster_forecasts/forecasts_cluster0.csv', parse_dates=['ds'])\n",
    "cl2 = pd.read_csv('/work/Data-Science-Liv/cluster_forecasts/forecasts_cluster1.csv', parse_dates=['ds'])\n",
    "cl3 = pd.read_csv('/work/Data-Science-Liv/cluster_forecasts/forecasts_cluster2.csv', parse_dates=['ds'])\n",
    "cl4 = pd.read_csv('/work/Data-Science-Liv/cluster_forecasts/forecasts_cluster3.csv', parse_dates=['ds'])\n"
   ]
  },
  {
   "cell_type": "markdown",
   "metadata": {},
   "source": [
    "#### Data inspection\n",
    "- Removing NA rows from years included in the training set\n",
    "- Making sure the year span is correct\n",
    "- Checking the unique countries in each cluster"
   ]
  },
  {
   "cell_type": "code",
   "execution_count": 5,
   "metadata": {},
   "outputs": [],
   "source": [
    "#Remove rows with NAs - these rows represent the first years in the data that were used for training. Here we only have the test forecasts\n",
    "cl1 = cl1.dropna(subset=['final_prediction'])\n",
    "cl2 = cl2.dropna(subset=['final_prediction'])\n",
    "cl3 = cl3.dropna(subset=['final_prediction'])\n",
    "cl4 = cl4.dropna(subset=['final_prediction'])"
   ]
  },
  {
   "cell_type": "code",
   "execution_count": 6,
   "metadata": {},
   "outputs": [
    {
     "name": "stdout",
     "output_type": "stream",
     "text": [
      "No NA values found in any of the data frames.\n"
     ]
    }
   ],
   "source": [
    "#Are there any NAs in the dfs now?\n",
    "data_frames = [cl1, cl2, cl3, cl4]\n",
    "\n",
    "# Check if any of the data frames contain NAs\n",
    "for df in data_frames:\n",
    "    if df.isna().any().any():\n",
    "        print(f\"At least one NA value found in DataFrame {df}.\")\n",
    "        break\n",
    "else:\n",
    "    print(\"No NA values found in any of the data frames.\")\n",
    "\n",
    "# There are no NAs in the dfs now\n"
   ]
  },
  {
   "cell_type": "code",
   "execution_count": 7,
   "metadata": {},
   "outputs": [
    {
     "name": "stdout",
     "output_type": "stream",
     "text": [
      "No common countries found among the data frames.\n"
     ]
    }
   ],
   "source": [
    "# Are there overlapping countries in the data frames?\n",
    "data_frames = [cl1, cl2, cl3, cl4]\n",
    "common_countries = set()\n",
    "\n",
    "# Compare unique countries pairwise between data frames\n",
    "for i in range(len(data_frames)):\n",
    "    for j in range(i+1, len(data_frames)):\n",
    "        countries_i = set(data_frames[i]['Country'].unique())\n",
    "        countries_j = set(data_frames[j]['Country'].unique())\n",
    "        \n",
    "        if countries_i & countries_j:  # Check if there are common countries\n",
    "            common_countries.update(countries_i & countries_j)\n",
    "\n",
    "# Check if there are any common countries among the data frames\n",
    "if common_countries:\n",
    "    print(\"At least two data frames have common countries.\")\n",
    "else:\n",
    "    print(\"No common countries found among the data frames.\")\n",
    "\n",
    "\n",
    "#The clusters do not contain the same countries"
   ]
  },
  {
   "cell_type": "code",
   "execution_count": 8,
   "metadata": {},
   "outputs": [
    {
     "name": "stdout",
     "output_type": "stream",
     "text": [
      "Same unique years: True\n",
      "Time range: 2012-01-01 00:00:00 - 2021-01-01 00:00:00\n"
     ]
    }
   ],
   "source": [
    "# # Checking the years over which the data span and if they are the same\n",
    "# year_unique1 = set(cl1['ds'].unique())\n",
    "# year_unique2 = set(cl2['ds'].unique())\n",
    "# year_unique3 = set(cl3['ds'].unique())\n",
    "# year_unique4 = set(cl4['ds'].unique())\n",
    "\n",
    "#All dfs has the right testing range (span from 2004-2001)\n",
    "\n",
    "\n",
    "data_frames = [cl1, cl2, cl3, cl4]\n",
    "\n",
    "unique_years = [set(df['ds'].dt.year.unique()) for df in data_frames]\n",
    "same_unique_years = all(years == unique_years[0] for years in unique_years)\n",
    "\n",
    "min_dates = [df['ds'].min() for df in data_frames]\n",
    "max_dates = [df['ds'].max() for df in data_frames]\n",
    "same_time_range = all(date == min_dates[0] for date in min_dates) and all(date == max_dates[0] for date in max_dates)\n",
    "\n",
    "time_range = f\"{min_dates[0]} - {max_dates[0]}\"\n",
    "\n",
    "print(\"Same unique years:\", same_unique_years)\n",
    "print(\"Time range:\", time_range)\n",
    "\n",
    "\n"
   ]
  },
  {
   "cell_type": "markdown",
   "metadata": {},
   "source": [
    "### This is where the validation goes down\n",
    "- sMAPE\n",
    "\n",
    "Symmetric mean absolute percentage error (SMAPE or sMAPE) is an accuracy measure based on percentage (or relative) errors.\n",
    "It is a metric used to evaluate the accuracy of a forecasting model or compare the performance of different forecasting models."
   ]
  },
  {
   "cell_type": "markdown",
   "metadata": {},
   "source": [
    "#### Calculating sMAPES per country"
   ]
  },
  {
   "cell_type": "code",
   "execution_count": 9,
   "metadata": {},
   "outputs": [],
   "source": [
    "data_frames = [cl1, cl2, cl3, cl4]\n",
    "\n",
    "#Initialise empty lists to store the sMAPE values per country, and their names to use when creating  the final output\n",
    "smape_values_per_dataset = []\n",
    "country_names_per_dataset = []\n",
    "\n",
    "for data_set in data_frames:\n",
    "    smape_values_per_country = []\n",
    "    country_names = []\n",
    "\n",
    "    for country in data_set['Country'].unique():\n",
    "        country_data = data_set[data_set['Country'] == country]\n",
    "        forecast_series = TimeSeries.from_dataframe(country_data, time_col='ds', value_cols='final_prediction')\n",
    "        actual_series = TimeSeries.from_dataframe(country_data, time_col='ds', value_cols='y_tst')\n",
    "        sMAPE_value = smape(forecast_series, actual_series)\n",
    "        smape_values_per_country.append(sMAPE_value)\n",
    "        country_names.append(country)\n",
    "\n",
    "    # Sort the country names and sMAPE values based on sMAPE values in ascending order\n",
    "    sorted_data = sorted(zip(country_names, smape_values_per_country), key=lambda x: x[1])\n",
    "\n",
    "    # Unzip the sorted data to separate country names and sMAPE values\n",
    "    sorted_country_names, sorted_smape_values = zip(*sorted_data)\n",
    "\n",
    "    smape_values_per_dataset.append(sorted_smape_values)\n",
    "    country_names_per_dataset.append(sorted_country_names)\n",
    "\n",
    "# Create a new dataframe to store the results\n",
    "sMAPES_df = pd.DataFrame()\n",
    "\n",
    "for i, smape_values in enumerate(smape_values_per_dataset):\n",
    "    cluster_name = f\"Cluster {i+1}\"\n",
    "    cluster_countries = country_names_per_dataset[i]\n",
    "\n",
    "    # Create a temporary dataframe to store the cluster's results\n",
    "    temp_df = pd.DataFrame({'Country': cluster_countries, 'sMAPE': smape_values, 'Cluster': cluster_name})\n",
    "\n",
    "    # Append the temporary dataframe to the output dataframe\n",
    "    sMAPES_df = sMAPES_df.append(temp_df, ignore_index=True)\n"
   ]
  },
  {
   "cell_type": "code",
   "execution_count": 10,
   "metadata": {},
   "outputs": [
    {
     "name": "stdout",
     "output_type": "stream",
     "text": [
      "                              Country      sMAPE    Cluster\n",
      "0                     Solomon Islands   0.625301  Cluster 1\n",
      "1                          Mauritania   1.046852  Cluster 1\n",
      "2                               Libya   1.154142  Cluster 1\n",
      "3                            Mongolia   1.217554  Cluster 1\n",
      "4                    Papua New Guinea   1.305640  Cluster 1\n",
      "5                    Marshall Islands   1.606603  Cluster 1\n",
      "6                              Tuvalu   1.783666  Cluster 1\n",
      "7                          Tajikistan   1.888793  Cluster 1\n",
      "8                               Gabon   1.909505  Cluster 1\n",
      "9                             Myanmar   2.397538  Cluster 1\n",
      "10                           Pakistan   2.743546  Cluster 1\n",
      "11                          Indonesia   3.913311  Cluster 1\n",
      "12                           Kiribati   4.155909  Cluster 1\n",
      "13                          Nicaragua   4.275089  Cluster 1\n",
      "14                           Honduras   4.286221  Cluster 1\n",
      "15                              Ghana   4.981637  Cluster 1\n",
      "16              Sao Tome and Principe   5.065919  Cluster 1\n",
      "17                               Oman   5.294465  Cluster 1\n",
      "18                              India   5.366645  Cluster 1\n",
      "19                            Morocco   5.712984  Cluster 1\n",
      "20                               Iran   6.057181  Cluster 1\n",
      "21                              Egypt   6.068628  Cluster 1\n",
      "22                              Nauru   6.305916  Cluster 1\n",
      "23                               Iraq   6.806855  Cluster 1\n",
      "24                          Guatemala   7.407206  Cluster 1\n",
      "25                         Bangladesh   7.949418  Cluster 1\n",
      "26                              Congo   9.346837  Cluster 1\n",
      "27                           Maldives   9.632211  Cluster 1\n",
      "28                              Palau   9.890212  Cluster 1\n",
      "29                            Bolivia  10.159338  Cluster 1\n",
      "30                              Kenya  11.443079  Cluster 1\n",
      "31                        El Salvador  12.388253  Cluster 1\n",
      "32                            Algeria  12.973782  Cluster 1\n",
      "33                       South Africa  17.080375  Cluster 1\n",
      "34                            Namibia  19.725942  Cluster 1\n",
      "35                           Botswana  22.079210  Cluster 1\n",
      "36                           Zimbabwe  40.384851  Cluster 1\n",
      "37                               Togo   0.523007  Cluster 2\n",
      "38                       Burkina Faso   0.900543  Cluster 2\n",
      "39                              Haiti   0.950557  Cluster 2\n",
      "40                            Nigeria   1.214658  Cluster 2\n",
      "41                         Mozambique   1.416522  Cluster 2\n",
      "42                            Somalia   1.438338  Cluster 2\n",
      "43                           Djibouti   1.490297  Cluster 2\n",
      "44                            Burundi   1.843048  Cluster 2\n",
      "45                           Ethiopia   2.049285  Cluster 2\n",
      "46                               Chad   2.107270  Cluster 2\n",
      "47                             Angola   2.522810  Cluster 2\n",
      "48                      Guinea-Bissau   2.962963  Cluster 2\n",
      "49       Democratic Republic of Congo   2.986487  Cluster 2\n",
      "50                            Comoros   3.847794  Cluster 2\n",
      "51                              Sudan   4.071039  Cluster 2\n",
      "52                             Rwanda   4.910546  Cluster 2\n",
      "53                         Madagascar   4.937466  Cluster 2\n",
      "54                            Senegal   5.206778  Cluster 2\n",
      "55                             Uganda   5.469789  Cluster 2\n",
      "56                               Laos   5.658257  Cluster 2\n",
      "57                           Tanzania   5.764150  Cluster 2\n",
      "58                             Malawi   5.953962  Cluster 2\n",
      "59                            Eritrea   6.585699  Cluster 2\n",
      "60                              Benin   6.738068  Cluster 2\n",
      "61                             Gambia   7.868621  Cluster 2\n",
      "62                           Cameroon   7.996976  Cluster 2\n",
      "63                              Niger   8.141275  Cluster 2\n",
      "64                             Bhutan   8.417861  Cluster 2\n",
      "65                             Guinea   8.455936  Cluster 2\n",
      "66                       Sierra Leone   8.811700  Cluster 2\n",
      "67                            Liberia   8.832729  Cluster 2\n",
      "68                               Mali   9.024096  Cluster 2\n",
      "69                  Equatorial Guinea   9.068450  Cluster 2\n",
      "70                      Cote d'Ivoire  10.277512  Cluster 2\n",
      "71                        Afghanistan  11.486775  Cluster 2\n",
      "72                              Nepal  11.971485  Cluster 2\n",
      "73                        South Sudan  12.357765  Cluster 2\n",
      "74                     Western Sahara  12.833292  Cluster 2\n",
      "75                              Yemen  13.147036  Cluster 2\n",
      "76                           Cambodia  14.708139  Cluster 2\n",
      "77           Central African Republic  15.744482  Cluster 2\n",
      "78                             Zambia  19.022433  Cluster 2\n",
      "79                              Timor  19.379729  Cluster 2\n",
      "80                            Lesotho  27.819221  Cluster 2\n",
      "81                           Eswatini  39.719938  Cluster 2\n",
      "82                              Japan   0.262442  Cluster 3\n",
      "83                             Cyprus   0.348517  Cluster 3\n",
      "84                              Spain   0.412241  Cluster 3\n",
      "85                            Denmark   0.473900  Cluster 3\n",
      "86                          Hong Kong   0.654683  Cluster 3\n",
      "87                           Slovenia   0.725379  Cluster 3\n",
      "88                            Bermuda   0.828603  Cluster 3\n",
      "89                     American Samoa   0.878261  Cluster 3\n",
      "90         Saint Martin (French part)   0.883451  Cluster 3\n",
      "91                              Malta   0.894736  Cluster 3\n",
      "92                            Croatia   0.934906  Cluster 3\n",
      "93                         Costa Rica   0.964027  Cluster 3\n",
      "94       United States Virgin Islands   1.014022  Cluster 3\n",
      "95                            Curacao   1.018492  Cluster 3\n",
      "96          Sint Maarten (Dutch part)   1.079155  Cluster 3\n",
      "97                          Singapore   1.181051  Cluster 3\n",
      "98                           Portugal   1.285763  Cluster 3\n",
      "99                        Puerto Rico   1.296367  Cluster 3\n",
      "100                            Greece   1.343229  Cluster 3\n",
      "101                           Ireland   1.349209  Cluster 3\n",
      "102                           Hungary   1.430521  Cluster 3\n",
      "103   Bonaire Sint Eustatius and Saba   1.455096  Cluster 3\n",
      "104                             Aruba   1.500465  Cluster 3\n",
      "105                          Slovakia   1.503685  Cluster 3\n",
      "106                            Serbia   1.515460  Cluster 3\n",
      "107                           Finland   1.588173  Cluster 3\n",
      "108                       Netherlands   1.632064  Cluster 3\n",
      "109                            Norway   1.657566  Cluster 3\n",
      "110                   Saint Barthlemy   1.668319  Cluster 3\n",
      "111                            Taiwan   1.701779  Cluster 3\n",
      "112                            Poland   1.710334  Cluster 3\n",
      "113                              Cuba   1.780501  Cluster 3\n",
      "114                           Estonia   1.847376  Cluster 3\n",
      "115                        Martinique   1.894586  Cluster 3\n",
      "116                            Latvia   1.904925  Cluster 3\n",
      "117                           Czechia   1.947775  Cluster 3\n",
      "118                           Vatican   1.959430  Cluster 3\n",
      "119                       Switzerland   1.965026  Cluster 3\n",
      "120                            Canada   2.071755  Cluster 3\n",
      "121                            France   2.089716  Cluster 3\n",
      "122                             Macao   2.184787  Cluster 3\n",
      "123                            Sweden   2.219130  Cluster 3\n",
      "124                           Belgium   2.220268  Cluster 3\n",
      "125         Saint Pierre and Miquelon   2.369753  Cluster 3\n",
      "126                             Italy   2.526569  Cluster 3\n",
      "127                        San Marino   2.603994  Cluster 3\n",
      "128                           Romania   2.664250  Cluster 3\n",
      "129                    United Kingdom   2.742140  Cluster 3\n",
      "130                           Iceland   2.785312  Cluster 3\n",
      "131                           Andorra   2.907661  Cluster 3\n",
      "132                           Austria   2.939870  Cluster 3\n",
      "133                           Germany   2.967107  Cluster 3\n",
      "134                        Montenegro   3.041228  Cluster 3\n",
      "135                            Israel   3.047033  Cluster 3\n",
      "136                     United States   3.100796  Cluster 3\n",
      "137                        Luxembourg   3.125569  Cluster 3\n",
      "138                       New Zealand   3.229609  Cluster 3\n",
      "139                         Lithuania   3.281179  Cluster 3\n",
      "140                          Bulgaria   3.293424  Cluster 3\n",
      "141                          Barbados   3.337623  Cluster 3\n",
      "142                           Uruguay   3.415723  Cluster 3\n",
      "143                         Australia   3.416653  Cluster 3\n",
      "144                         Argentina   3.706977  Cluster 3\n",
      "145                            Monaco   3.900496  Cluster 3\n",
      "146               Antigua and Barbuda   4.054361  Cluster 3\n",
      "147                         Gibraltar   4.282735  Cluster 3\n",
      "148                       Isle of Man   4.547087  Cluster 3\n",
      "149                          Guernsey   4.550528  Cluster 3\n",
      "150                    Faeroe Islands   5.163529  Cluster 3\n",
      "151          Northern Mariana Islands   5.277840  Cluster 3\n",
      "152                            Jersey   5.312870  Cluster 3\n",
      "153                     Liechtenstein   5.749208  Cluster 3\n",
      "154                      Saint Helena   5.949289  Cluster 3\n",
      "155                           Ukraine   7.567377  Cluster 3\n",
      "156                           Belarus   8.782073  Cluster 3\n",
      "157                        Montserrat   0.293298  Cluster 4\n",
      "158                              Fiji   0.471907  Cluster 4\n",
      "159                           Reunion   0.708003  Cluster 4\n",
      "160                        Uzbekistan   0.711490  Cluster 4\n",
      "161                          Malaysia   0.730392  Cluster 4\n",
      "162                           Moldova   0.772278  Cluster 4\n",
      "163                          Thailand   0.862097  Cluster 4\n",
      "164                           Grenada   0.869784  Cluster 4\n",
      "165                           Georgia   0.914398  Cluster 4\n",
      "166                        Guadeloupe   0.927582  Cluster 4\n",
      "167                        Kyrgyzstan   0.941281  Cluster 4\n",
      "168                           Jamaica   0.959206  Cluster 4\n",
      "169            Bosnia and Herzegovina   1.028840  Cluster 4\n",
      "170              United Arab Emirates   1.043430  Cluster 4\n",
      "171                     French Guiana   1.046805  Cluster 4\n",
      "172                         Venezuela   1.180618  Cluster 4\n",
      "173                             Tonga   1.206506  Cluster 4\n",
      "174                          Colombia   1.456277  Cluster 4\n",
      "175                           Mayotte   1.510016  Cluster 4\n",
      "176                            Panama   1.531572  Cluster 4\n",
      "177                      Turkmenistan   1.550780  Cluster 4\n",
      "178                          Suriname   1.577677  Cluster 4\n",
      "179                            Brunei   1.588837  Cluster 4\n",
      "180                       Saint Lucia   1.605848  Cluster 4\n",
      "181               Trinidad and Tobago   1.624058  Cluster 4\n",
      "182                            Guyana   1.752877  Cluster 4\n",
      "183                            Kuwait   1.771205  Cluster 4\n",
      "184                           Albania   1.862300  Cluster 4\n",
      "185                             Qatar   2.004635  Cluster 4\n",
      "186                        Azerbaijan   2.009988  Cluster 4\n",
      "187                   North Macedonia   2.193084  Cluster 4\n",
      "188            British Virgin Islands   2.216082  Cluster 4\n",
      "189                    Cayman Islands   2.256725  Cluster 4\n",
      "190                             China   2.257834  Cluster 4\n",
      "191                            Jordan   2.269949  Cluster 4\n",
      "192  Saint Vincent and the Grenadines   2.270419  Cluster 4\n",
      "193                             Samoa   2.469089  Cluster 4\n",
      "194              Micronesia (country)   2.798558  Cluster 4\n",
      "195                        Seychelles   2.839554  Cluster 4\n",
      "196                        Kazakhstan   2.846670  Cluster 4\n",
      "197                         Mauritius   2.916085  Cluster 4\n",
      "198                     New Caledonia   2.973265  Cluster 4\n",
      "199                           Armenia   3.307008  Cluster 4\n",
      "200                         Greenland   3.319796  Cluster 4\n",
      "201                          Paraguay   3.379164  Cluster 4\n",
      "202                Dominican Republic   3.485418  Cluster 4\n",
      "203                            Kosovo   3.599319  Cluster 4\n",
      "204                           Bahamas   3.627733  Cluster 4\n",
      "205          Turks and Caicos Islands   3.876404  Cluster 4\n",
      "206                            Belize   3.913958  Cluster 4\n",
      "207                         Sri Lanka   4.030105  Cluster 4\n",
      "208                       South Korea   4.033645  Cluster 4\n",
      "209                            Turkey   4.136420  Cluster 4\n",
      "210                          Dominica   4.164649  Cluster 4\n",
      "211                            Brazil   4.202606  Cluster 4\n",
      "212                           Tokelau   4.269564  Cluster 4\n",
      "213                             Chile   4.275590  Cluster 4\n",
      "214                              Guam   4.462153  Cluster 4\n",
      "215                            Mexico   4.482952  Cluster 4\n",
      "216                           Tunisia   4.504208  Cluster 4\n",
      "217                       Philippines   4.663992  Cluster 4\n",
      "218                           Vanuatu   4.939829  Cluster 4\n",
      "219                        Cape Verde   4.942020  Cluster 4\n",
      "220                      Saudi Arabia   5.087256  Cluster 4\n",
      "221                          Anguilla   5.119817  Cluster 4\n",
      "222                              Niue   5.440111  Cluster 4\n",
      "223             Saint Kitts and Nevis   5.548807  Cluster 4\n",
      "224                         Palestine   5.661859  Cluster 4\n",
      "225                           Bahrain   5.914512  Cluster 4\n",
      "226                           Vietnam   5.922223  Cluster 4\n",
      "227                  French Polynesia   6.135831  Cluster 4\n",
      "228                           Ecuador   6.559313  Cluster 4\n",
      "229                      Cook Islands   6.743998  Cluster 4\n",
      "230                              Peru   6.819338  Cluster 4\n",
      "231                            Russia   7.813317  Cluster 4\n",
      "232                             Syria   9.135370  Cluster 4\n",
      "233                 Wallis and Futuna   9.999090  Cluster 4\n",
      "234                           Lebanon  12.124710  Cluster 4\n",
      "235                  Falkland Islands  12.590558  Cluster 4\n",
      "236                       North Korea  18.916730  Cluster 4\n"
     ]
    }
   ],
   "source": [
    "# Display the DataFrame for the current chunk\n",
    "with pd.option_context('display.max_rows', None, 'display.max_columns', None):\n",
    "    print(sMAPES_df)"
   ]
  },
  {
   "cell_type": "code",
   "execution_count": 11,
   "metadata": {},
   "outputs": [],
   "source": [
    "# Save the sMAPE data frame to csv\n",
    "file_path = '/work/Data-Science-Liv/Data/sMAPES_df.csv'\n",
    "sMAPES_df.to_csv(file_path, index=False)"
   ]
  },
  {
   "cell_type": "markdown",
   "metadata": {},
   "source": [
    "### Quantify general performance of the cluster modelling approach\n",
    "- Mean sMAPE across ll countries\n",
    "- Median sMAPE across all countries\n",
    "- Weighted sMAPE - accounting for the different number of countries in each cluster. Clusters with more countries are given more importance"
   ]
  },
  {
   "cell_type": "code",
   "execution_count": 69,
   "metadata": {},
   "outputs": [
    {
     "name": "stdout",
     "output_type": "stream",
     "text": [
      "Mean sMAPE: 4.708662914057727\n",
      "Median sMAPE: 3.0412284506568974\n"
     ]
    }
   ],
   "source": [
    "# Calculate overall Mean sMAPE\n",
    "mean_smape = np.mean(sMAPES_df['sMAPE'])\n",
    "print(\"Mean sMAPE:\", mean_smape)\n",
    "\n",
    "# Calculate Median sMAPE\n",
    "median_smape = np.median(sMAPES_df['sMAPE'])\n",
    "print(\"Median sMAPE:\", median_smape)\n",
    "\n",
    "# # Calculate Weighted sMAPE - doesn't work very well rn, maybe because of some extreme sMAPE values for some countries\n",
    "# weights = sMAPES_df.groupby('Cluster')['Country'].transform('count') / len(sMAPES_df)\n",
    "# weighted_smape = np.sum(sMAPES_df['sMAPE'] * weights)\n",
    "# print(\"Weighted sMAPE:\", weighted_smape)"
   ]
  },
  {
   "cell_type": "code",
   "execution_count": 70,
   "metadata": {},
   "outputs": [
    {
     "data": {
      "text/plain": [
       "Index(['Country', 'sMAPE', 'Cluster'], dtype='object')"
      ]
     },
     "execution_count": 70,
     "metadata": {},
     "output_type": "execute_result"
    }
   ],
   "source": [
    "sMAPES_df.columns"
   ]
  },
  {
   "cell_type": "markdown",
   "metadata": {},
   "source": [
    "#### Visualise"
   ]
  },
  {
   "cell_type": "code",
   "execution_count": 77,
   "metadata": {},
   "outputs": [
    {
     "data": {
      "image/png": "[encoded data removed]",
      "text/plain": [
       "<Figure size 864x576 with 4 Axes>"
      ]
     },
     "metadata": {
      "needs_background": "light"
     },
     "output_type": "display_data"
    }
   ],
   "source": [
    "import seaborn as sns\n",
    "import matplotlib.pyplot as plt\n",
    "\n",
    "# Extract cluster number from 'Cluster' column\n",
    "#sMAPES_df['Cluster'] = sMAPES_df['Cluster'].str.replace('Cluster ', '').astype(int)\n",
    "\n",
    "# Create a bar plot for each cluster\n",
    "fig, axes = plt.subplots(2, 2, figsize=(12, 8))\n",
    "axes = axes.flatten()\n",
    "\n",
    "for i, (cluster_name, countries) in enumerate(sMAPES_df.groupby('Cluster')):\n",
    "    # Extract the sMAPE values for the countries in the current cluster\n",
    "    cluster_smape_values = countries['sMAPE']\n",
    "\n",
    "    # Plot the sMAPE values for the current cluster\n",
    "    sns.barplot(x=cluster_smape_values.index, y='sMAPE', data=countries,\n",
    "                ax=axes[i], palette='viridis')\n",
    "    axes[i].set_title(f\"Cluster {cluster_name}\")\n",
    "\n",
    "    # Rotate x-axis labels for better visibility\n",
    "    axes[i].set_xticklabels([])  # Remove x-axis labels\n",
    "\n",
    "# Adjust spacing between subplots\n",
    "plt.tight_layout()\n",
    "\n",
    "# Show the plot\n",
    "plt.show()\n"
   ]
  },
  {
   "cell_type": "code",
   "execution_count": 114,
   "metadata": {},
   "outputs": [
    {
     "data": {
      "image/png": "[encoded data removed]",
      "text/plain": [
       "<Figure size 576x432 with 1 Axes>"
      ]
     },
     "metadata": {
      "needs_background": "light"
     },
     "output_type": "display_data"
    }
   ],
   "source": [
    "import seaborn as sns\n",
    "import matplotlib.pyplot as plt\n",
    "\n",
    "# Create a histogram plot of sMAPE values\n",
    "plt.figure(figsize=(8, 6))\n",
    "sns.histplot(data=sMAPES_df, x='sMAPE', kde=True, color='blue')\n",
    "\n",
    "# Calculate the mean, median, and standard deviation of sMAPE values\n",
    "mean_smape = sMAPES_df['sMAPE'].mean()\n",
    "median_smape = sMAPES_df['sMAPE'].median()\n",
    "std_smape = sMAPES_df['sMAPE'].std()\n",
    "\n",
    "# Annotate the mean, median, and standard deviation\n",
    "plt.text(0.9, 0.5, f\"Mean: {mean_smape:.2f}\\nMedian: {median_smape:.2f}\\nSD: {std_smape:.2f}\",\n",
    "         transform=plt.gca().transAxes, fontsize=12, ha='right')\n",
    "\n",
    "# Set plot labels and title\n",
    "plt.xlabel('sMAPE')\n",
    "plt.ylabel('Count')\n",
    "plt.title('Overall Distribution of sMAPEs - Cluster Model')\n",
    "\n",
    "# Show the plot\n",
    "plt.show()\n",
    "\n"
   ]
  },
  {
   "cell_type": "code",
   "execution_count": 13,
   "metadata": {},
   "outputs": [
    {
     "data": {
      "text/plain": [
       "Index(['Country', 'sMAPE', 'Cluster'], dtype='object')"
      ]
     },
     "execution_count": 13,
     "metadata": {},
     "output_type": "execute_result"
    }
   ],
   "source": [
    "sMAPES_df.columns"
   ]
  },
  {
   "cell_type": "code",
   "execution_count": 34,
   "metadata": {},
   "outputs": [
    {
     "data": {
      "image/png": "[encoded data removed]",
      "text/plain": [
       "<Figure size 576x432 with 1 Axes>"
      ]
     },
     "metadata": {
      "needs_background": "light"
     },
     "output_type": "display_data"
    }
   ],
   "source": [
    "import matplotlib.pyplot as plt\n",
    "import seaborn as sns\n",
    "\n",
    "# Create a histogram plot of sMAPE values\n",
    "plt.figure(figsize=(8, 6))\n",
    "sns.histplot(data=sMAPES_df, x='sMAPE', kde=True, color='blue')\n",
    "\n",
    "# Set plot labels and title\n",
    "plt.xlabel('sMAPE')\n",
    "plt.ylabel('Count')\n",
    "\n",
    "# Add model name and statistics as title and subtitle\n",
    "name = \"Cluster Model\"  # Replace \"Your Model\" with your actual model name\n",
    "smapes = sMAPES_df['sMAPE']  # Assuming sMAPES_df contains the sMAPE values\n",
    "subtitle = \"Median sMAPE: {:.3f} and mean sMAPE: {:.2f} +- {:.2f}\".format(np.median(smapes), np.mean(smapes), np.std(smapes))\n",
    "plt.title(\"Model: {}\".format(name), y=1.05)\n",
    "plt.text(0.5, 1.03, subtitle, ha='center', va='center', transform=plt.gca().transAxes, fontsize=10)\n",
    "\n",
    "# Show the plot\n",
    "plt.show()\n"
   ]
  },
  {
   "cell_type": "code",
   "execution_count": 116,
   "metadata": {},
   "outputs": [
    {
     "data": {
      "image/png": "[encoded data removed]",
      "text/plain": [
       "<Figure size 864x576 with 4 Axes>"
      ]
     },
     "metadata": {
      "needs_background": "light"
     },
     "output_type": "display_data"
    }
   ],
   "source": [
    "import seaborn as sns\n",
    "import matplotlib.pyplot as plt\n",
    "\n",
    "# Extract cluster number from 'Cluster' column\n",
    "#sMAPES_df['Cluster'] = sMAPES_df['Cluster'].str.replace('Cluster ', '').astype(int)\n",
    "\n",
    "# Create a histogram plot for each cluster\n",
    "fig, axes = plt.subplots(2, 2, figsize=(12, 8))\n",
    "axes = axes.flatten()\n",
    "\n",
    "# Define a color palette with a color for each cluster\n",
    "color_palette = sns.color_palette('tab10', len(sMAPES_df['Cluster'].unique()))\n",
    "\n",
    "for i, (cluster_name, countries) in enumerate(sMAPES_df.groupby('Cluster')):\n",
    "    # Extract the sMAPE values for the current cluster\n",
    "    cluster_smape_values = countries['sMAPE']\n",
    "\n",
    "    # Plot the distribution of sMAPE values for the current cluster\n",
    "    ax = sns.histplot(cluster_smape_values, ax=axes[i], kde=True, color=color_palette[i])\n",
    "    ax.set_title(f\"Cluster {cluster_name}\")\n",
    "    ax.set_xlabel('sMAPE')\n",
    "\n",
    "    # Calculate and annotate the mean, median, and standard deviation of sMAPE values\n",
    "    mean_smape = cluster_smape_values.mean()\n",
    "    median_smape = cluster_smape_values.median()\n",
    "    std_smape = cluster_smape_values.std()\n",
    "    ax.text(0.9, 0.5, f\"Mean: {mean_smape:.2f}\\nMedian: {median_smape:.2f}\\nSD: {std_smape:.2f}\",\n",
    "            transform=ax.transAxes, fontsize=10, ha='right')\n",
    "\n",
    "# Adjust spacing between subplots\n",
    "plt.tight_layout()\n",
    "\n",
    "# Show the plot\n",
    "plt.show()\n"
   ]
  },
  {
   "cell_type": "markdown",
   "metadata": {},
   "source": [
    "### Extract the countries with the highest sMAPE values"
   ]
  },
  {
   "cell_type": "markdown",
   "metadata": {},
   "source": [
    "#### Overall"
   ]
  },
  {
   "cell_type": "code",
   "execution_count": 101,
   "metadata": {},
   "outputs": [
    {
     "name": "stdout",
     "output_type": "stream",
     "text": [
      "     Country      sMAPE  Cluster\n",
      "36  Zimbabwe  40.384851        1\n",
      "81  Eswatini  39.719938        2\n",
      "80   Lesotho  27.819221        2\n",
      "35  Botswana  22.079210        1\n",
      "34   Namibia  19.725942        1\n"
     ]
    }
   ],
   "source": [
    "# In total - shows that these are all in cluser 1 and 2\n",
    "# Sort the DataFrame by sMAPE values in descending order\n",
    "sorted_df = sMAPES_df.sort_values('sMAPE', ascending=False)\n",
    "\n",
    "# Extract the top 5 countries and their sMAPE values\n",
    "top_countries = sorted_df.head(5)[['Country', 'sMAPE', 'Cluster']]\n",
    "\n",
    "# Display the top 5 countries and their sMAPE values\n",
    "print(top_countries)\n"
   ]
  },
  {
   "cell_type": "markdown",
   "metadata": {},
   "source": [
    "#### In cluster 3 and 4"
   ]
  },
  {
   "cell_type": "code",
   "execution_count": 109,
   "metadata": {},
   "outputs": [
    {
     "name": "stdout",
     "output_type": "stream",
     "text": [
      "               Country      sMAPE  Cluster\n",
      "236        North Korea  18.916730        4\n",
      "235   Falkland Islands  12.590558        4\n",
      "234            Lebanon  12.124710        4\n",
      "233  Wallis and Futuna   9.999090        4\n",
      "232              Syria   9.135370        4\n"
     ]
    }
   ],
   "source": [
    "# In cluyster 3 and 4\n",
    "# Filter the DataFrame to include only cluster 3 and 4\n",
    "filtered_df = sMAPES_df[sMAPES_df['Cluster'].isin([3, 4])]\n",
    "\n",
    "# Sort the DataFrame by sMAPE values in descending order\n",
    "sorted_df = filtered_df.sort_values('sMAPE', ascending=False)\n",
    "\n",
    "# Select the top 5 countries with the highest sMAPE values\n",
    "top_countries = sorted_df.head(5)\n",
    "\n",
    "# Display the top 5 countries\n",
    "print(top_countries[['Country', 'sMAPE','Cluster']])\n"
   ]
  },
  {
   "cell_type": "markdown",
   "metadata": {},
   "source": [
    "#### Minimum and maximum per cluster"
   ]
  },
  {
   "cell_type": "code",
   "execution_count": 110,
   "metadata": {},
   "outputs": [
    {
     "name": "stdout",
     "output_type": "stream",
     "text": [
      "Minimum sMAPE per cluster:\n",
      "Cluster\n",
      "1    0.625301\n",
      "2    0.523007\n",
      "3    0.262442\n",
      "4    0.293298\n",
      "Name: sMAPE, dtype: float64\n",
      "\n",
      "Maximum sMAPE per cluster:\n",
      "Cluster\n",
      "1    40.384851\n",
      "2    39.719938\n",
      "3     8.782073\n",
      "4    18.916730\n",
      "Name: sMAPE, dtype: float64\n"
     ]
    }
   ],
   "source": [
    "# Min and max per cluster\n",
    "# Group the DataFrame by 'Cluster' and calculate the minimum and maximum sMAPE values\n",
    "min_smape_per_cluster = sMAPES_df.groupby('Cluster')['sMAPE'].min()\n",
    "max_smape_per_cluster = sMAPES_df.groupby('Cluster')['sMAPE'].max()\n",
    "\n",
    "# Display the minimum and maximum sMAPE values per cluster\n",
    "print(\"Minimum sMAPE per cluster:\")\n",
    "print(min_smape_per_cluster)\n",
    "print()\n",
    "print(\"Maximum sMAPE per cluster:\")\n",
    "print(max_smape_per_cluster)\n"
   ]
  },
  {
   "cell_type": "markdown",
   "metadata": {},
   "source": [
    "#### Overall best performance (lowest sMAPE)"
   ]
  },
  {
   "cell_type": "code",
   "execution_count": 117,
   "metadata": {},
   "outputs": [
    {
     "name": "stdout",
     "output_type": "stream",
     "text": [
      "        Country     sMAPE  Cluster\n",
      "82        Japan  0.262442        3\n",
      "157  Montserrat  0.293298        4\n",
      "83       Cyprus  0.348517        3\n",
      "84        Spain  0.412241        3\n",
      "158        Fiji  0.471907        4\n"
     ]
    }
   ],
   "source": [
    "# In total - shows that these are all in cluser 1 and 2\n",
    "# Sort the DataFrame by sMAPE values in descending order\n",
    "sorted_df = sMAPES_df.sort_values('sMAPE', ascending=True)\n",
    "\n",
    "# Extract the top 5 countries and their sMAPE values\n",
    "top_countries = sorted_df.head(5)[['Country', 'sMAPE', 'Cluster']]\n",
    "\n",
    "# Display the top 5 countries and their sMAPE values\n",
    "print(top_countries)"
   ]
  },
  {
   "cell_type": "markdown",
   "metadata": {},
   "source": [
    "#### Now doing it for cluster 1 and 2"
   ]
  },
  {
   "cell_type": "code",
   "execution_count": 118,
   "metadata": {},
   "outputs": [
    {
     "name": "stdout",
     "output_type": "stream",
     "text": [
      "            Country     sMAPE  Cluster\n",
      "37             Togo  0.523007        2\n",
      "0   Solomon Islands  0.625301        1\n",
      "38     Burkina Faso  0.900543        2\n",
      "39            Haiti  0.950557        2\n",
      "1        Mauritania  1.046852        1\n"
     ]
    }
   ],
   "source": [
    "# In cluyster 3 and 4\n",
    "# Filter the DataFrame to include only cluster 3 and 4\n",
    "filtered_df = sMAPES_df[sMAPES_df['Cluster'].isin([1, 2])]\n",
    "\n",
    "# Sort the DataFrame by sMAPE values in descending order\n",
    "sorted_df = filtered_df.sort_values('sMAPE', ascending=True)\n",
    "\n",
    "# Select the top 5 countries with the highest sMAPE values\n",
    "top_countries = sorted_df.head(5)\n",
    "\n",
    "# Display the top 5 countries\n",
    "print(top_countries[['Country', 'sMAPE','Cluster']])"
   ]
  },
  {
   "cell_type": "code",
   "execution_count": null,
   "metadata": {},
   "outputs": [],
   "source": []
  }
 ],
 "metadata": {
  "interpreter": {
   "hash": "31f2aee4e71d21fbe5cf8b01ff0e069b9275f58929596ceb00d14d90e3e16cd6"
  },
  "kernelspec": {
   "display_name": "Python 3.9.2 64-bit",
   "language": "python",
   "name": "python3"
  },
  "language_info": {
   "codemirror_mode": {
    "name": "ipython",
    "version": 3
   },
   "file_extension": ".py",
   "mimetype": "text/x-python",
   "name": "python",
   "nbconvert_exporter": "python",
   "pygments_lexer": "ipython3",
   "version": "3.9.2"
  },
  "orig_nbformat": 4
 },
 "nbformat": 4,
 "nbformat_minor": 2
}
