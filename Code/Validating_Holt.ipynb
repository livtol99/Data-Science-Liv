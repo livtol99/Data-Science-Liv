{
 "cells": [
  {
   "cell_type": "markdown",
   "metadata": {},
   "source": [
    "# Validating Cluster Model Performance"
   ]
  },
  {
   "cell_type": "markdown",
   "metadata": {},
   "source": [
    "#### What is left to do?\n",
    "- Compute the MAPE/sMAPE validation metrics\n",
    "- Visualise the forecasts for all clusters in a smart way and compare it to the actual data"
   ]
  },
  {
   "cell_type": "markdown",
   "metadata": {},
   "source": [
    "#### Install and import packages\n"
   ]
  },
  {
   "cell_type": "code",
   "execution_count": 1,
   "metadata": {},
   "outputs": [],
   "source": [
    "#Imports\n",
    "\n",
    "# multiprocessing\n",
    "from joblib import Parallel, delayed\n",
    "\n",
    "# data manipulation\n",
    "import numpy as np\n",
    "import pandas as pd\n",
    "import heapq\n",
    "\n",
    "# data visualization\n",
    "import matplotlib.pyplot as plt\n",
    "%matplotlib inline\n",
    "import seaborn as sns\n",
    "from tqdm import tqdm\n",
    "\n",
    "#hmm needed? \n",
    "import torch\n",
    "import torch.nn as nn\n",
    "#from torch import nn\n",
    "import torch.optim as optim\n",
    "import shutil\n",
    "import sklearn\n",
    "from sklearn.preprocessing import MinMaxScaler\n",
    "#from tqdm import tqdm_notebook as tqdm\n",
    "\n",
    "#darts\n",
    "# transformers and preprocessing\n",
    "import darts\n",
    "from darts import TimeSeries\n",
    "from darts.dataprocessing.transformers import Scaler\n",
    "from darts.utils.utils import SeasonalityMode, TrendMode, ModelMode\n",
    "from darts.utils.statistics import check_seasonality, plot_acf\n",
    "from darts.utils.timeseries_generation import datetime_attribute_timeseries\n",
    "from darts.models import * #everything\n",
    "\n",
    "#loss metrics\n",
    "from darts.metrics import mape\n",
    "from darts.metrics import smape\n",
    "from darts.utils.losses import SmapeLoss\n",
    "\n",
    "# likelihood\n",
    "from darts.utils.likelihood_models import GaussianLikelihood\n",
    "\n",
    "# settings\n",
    "import warnings\n",
    "warnings.filterwarnings(\"ignore\")\n",
    "import logging\n",
    "logging.disable(logging.CRITICAL)\n",
    "\n",
    "\n",
    "#extras\n",
    "import os\n",
    "import time\n",
    "import random\n",
    "from datetime import datetime\n",
    "from itertools import product\n",
    "from typing import List, Tuple, Dict\n",
    "from sklearn.preprocessing import MaxAbsScaler\n",
    "from sklearn.linear_model import Ridge\n",
    "import glob"
   ]
  },
  {
   "cell_type": "markdown",
   "metadata": {},
   "source": [
    "#### Load data\n",
    "Consider making this a bit more smooth (glob.glob to access all files at the same time)"
   ]
  },
  {
   "cell_type": "code",
   "execution_count": 3,
   "metadata": {},
   "outputs": [],
   "source": [
    "cl1 = pd.read_csv('/work/Data-Science-Liv/holt_cluster_forecasts/holt_forecasts_cluster0.csv', parse_dates=['ds'])\n",
    "cl2 = pd.read_csv('/work/Data-Science-Liv/holt_cluster_forecasts/holt_forecasts_cluster1.csv', parse_dates=['ds'])\n",
    "cl3 = pd.read_csv('/work/Data-Science-Liv/holt_cluster_forecasts/holt_forecasts_cluster2.csv', parse_dates=['ds'])\n",
    "cl4 = pd.read_csv('/work/Data-Science-Liv/holt_cluster_forecasts/holt_forecasts_cluster3.csv', parse_dates=['ds'])\n"
   ]
  },
  {
   "cell_type": "markdown",
   "metadata": {},
   "source": [
    "#### Data inspection\n",
    "- Removing NA rows from years included in the training set\n",
    "- Making sure the year span is correct\n",
    "- Checking the unique countries in each cluster"
   ]
  },
  {
   "cell_type": "code",
   "execution_count": 4,
   "metadata": {},
   "outputs": [],
   "source": [
    "#Remove rows with NAs - these rows represent the first years in the data that were used for training. Here we only have the test forecasts\n",
    "cl1 = cl1.dropna(subset=['final_prediction'])\n",
    "cl2 = cl2.dropna(subset=['final_prediction'])\n",
    "cl3 = cl3.dropna(subset=['final_prediction'])\n",
    "cl4 = cl4.dropna(subset=['final_prediction'])"
   ]
  },
  {
   "cell_type": "code",
   "execution_count": 5,
   "metadata": {},
   "outputs": [
    {
     "name": "stdout",
     "output_type": "stream",
     "text": [
      "No NA values found in any of the data frames.\n"
     ]
    }
   ],
   "source": [
    "#Are there any NAs in the dfs now?\n",
    "data_frames = [cl1, cl2, cl3, cl4]\n",
    "\n",
    "# Check if any of the data frames contain NAs\n",
    "for df in data_frames:\n",
    "    if df.isna().any().any():\n",
    "        print(f\"At least one NA value found in DataFrame {df}.\")\n",
    "        break\n",
    "else:\n",
    "    print(\"No NA values found in any of the data frames.\")\n",
    "\n",
    "# There are no NAs in the dfs now\n"
   ]
  },
  {
   "cell_type": "code",
   "execution_count": 6,
   "metadata": {},
   "outputs": [
    {
     "name": "stdout",
     "output_type": "stream",
     "text": [
      "No common countries found among the data frames.\n"
     ]
    }
   ],
   "source": [
    "# Are there overlapping countries in the data frames?\n",
    "data_frames = [cl1, cl2, cl3, cl4]\n",
    "common_countries = set()\n",
    "\n",
    "# Compare unique countries pairwise between data frames\n",
    "for i in range(len(data_frames)):\n",
    "    for j in range(i+1, len(data_frames)):\n",
    "        countries_i = set(data_frames[i]['Country'].unique())\n",
    "        countries_j = set(data_frames[j]['Country'].unique())\n",
    "        \n",
    "        if countries_i & countries_j:  # Check if there are common countries\n",
    "            common_countries.update(countries_i & countries_j)\n",
    "\n",
    "# Check if there are any common countries among the data frames\n",
    "if common_countries:\n",
    "    print(\"At least two data frames have common countries.\")\n",
    "else:\n",
    "    print(\"No common countries found among the data frames.\")\n",
    "\n",
    "\n",
    "#The clusters do not contain the same countries"
   ]
  },
  {
   "cell_type": "code",
   "execution_count": 7,
   "metadata": {},
   "outputs": [
    {
     "name": "stdout",
     "output_type": "stream",
     "text": [
      "Same unique years: True\n",
      "Time range: 2012-01-01 00:00:00 - 2021-01-01 00:00:00\n"
     ]
    }
   ],
   "source": [
    "# # Checking the years over which the data span and if they are the same\n",
    "# year_unique1 = set(cl1['ds'].unique())\n",
    "# year_unique2 = set(cl2['ds'].unique())\n",
    "# year_unique3 = set(cl3['ds'].unique())\n",
    "# year_unique4 = set(cl4['ds'].unique())\n",
    "\n",
    "#All dfs has the right testing range (span from 2004-2001)\n",
    "\n",
    "\n",
    "data_frames = [cl1, cl2, cl3, cl4]\n",
    "\n",
    "unique_years = [set(df['ds'].dt.year.unique()) for df in data_frames]\n",
    "same_unique_years = all(years == unique_years[0] for years in unique_years)\n",
    "\n",
    "min_dates = [df['ds'].min() for df in data_frames]\n",
    "max_dates = [df['ds'].max() for df in data_frames]\n",
    "same_time_range = all(date == min_dates[0] for date in min_dates) and all(date == max_dates[0] for date in max_dates)\n",
    "\n",
    "time_range = f\"{min_dates[0]} - {max_dates[0]}\"\n",
    "\n",
    "print(\"Same unique years:\", same_unique_years)\n",
    "print(\"Time range:\", time_range)\n",
    "\n",
    "\n"
   ]
  },
  {
   "cell_type": "markdown",
   "metadata": {},
   "source": [
    "### This is where the validation goes down\n",
    "- sMAPE\n",
    "\n",
    "Symmetric mean absolute percentage error (SMAPE or sMAPE) is an accuracy measure based on percentage (or relative) errors.\n",
    "It is a metric used to evaluate the accuracy of a forecasting model or compare the performance of different forecasting models."
   ]
  },
  {
   "cell_type": "markdown",
   "metadata": {},
   "source": [
    "#### Calculating sMAPES per country"
   ]
  },
  {
   "cell_type": "code",
   "execution_count": 8,
   "metadata": {},
   "outputs": [],
   "source": [
    "data_frames = [cl1, cl2, cl3, cl4]\n",
    "\n",
    "#Initialise empty lists to store the sMAPE values per country, and their names to use when creating  the final output\n",
    "smape_values_per_dataset = []\n",
    "country_names_per_dataset = []\n",
    "\n",
    "for data_set in data_frames:\n",
    "    smape_values_per_country = []\n",
    "    country_names = []\n",
    "\n",
    "    for country in data_set['Country'].unique():\n",
    "        country_data = data_set[data_set['Country'] == country]\n",
    "        forecast_series = TimeSeries.from_dataframe(country_data, time_col='ds', value_cols='final_prediction')\n",
    "        actual_series = TimeSeries.from_dataframe(country_data, time_col='ds', value_cols='y_tst')\n",
    "        sMAPE_value = smape(forecast_series, actual_series)\n",
    "        smape_values_per_country.append(sMAPE_value)\n",
    "        country_names.append(country)\n",
    "\n",
    "    # Sort the country names and sMAPE values based on sMAPE values in ascending order\n",
    "    sorted_data = sorted(zip(country_names, smape_values_per_country), key=lambda x: x[1])\n",
    "\n",
    "    # Unzip the sorted data to separate country names and sMAPE values\n",
    "    sorted_country_names, sorted_smape_values = zip(*sorted_data)\n",
    "\n",
    "    smape_values_per_dataset.append(sorted_smape_values)\n",
    "    country_names_per_dataset.append(sorted_country_names)\n",
    "\n",
    "# Create a new dataframe to store the results\n",
    "sMAPES_df = pd.DataFrame()\n",
    "\n",
    "for i, smape_values in enumerate(smape_values_per_dataset):\n",
    "    cluster_name = f\"Cluster {i+1}\"\n",
    "    cluster_countries = country_names_per_dataset[i]\n",
    "\n",
    "    # Create a temporary dataframe to store the cluster's results\n",
    "    temp_df = pd.DataFrame({'Country': cluster_countries, 'sMAPE': smape_values, 'Cluster': cluster_name})\n",
    "\n",
    "    # Append the temporary dataframe to the output dataframe\n",
    "    sMAPES_df = sMAPES_df.append(temp_df, ignore_index=True)\n"
   ]
  },
  {
   "cell_type": "code",
   "execution_count": 9,
   "metadata": {},
   "outputs": [
    {
     "name": "stdout",
     "output_type": "stream",
     "text": [
      "                              Country      sMAPE    Cluster\n",
      "0                          Mauritania   0.629244  Cluster 1\n",
      "1                    Marshall Islands   1.045425  Cluster 1\n",
      "2                     Solomon Islands   1.165277  Cluster 1\n",
      "3                          Tajikistan   1.374011  Cluster 1\n",
      "4                               Libya   1.642612  Cluster 1\n",
      "5                            Mongolia   1.649806  Cluster 1\n",
      "6                    Papua New Guinea   1.889704  Cluster 1\n",
      "7                              Tuvalu   2.381436  Cluster 1\n",
      "8                               Gabon   2.488798  Cluster 1\n",
      "9                             Myanmar   2.978121  Cluster 1\n",
      "10                           Pakistan   3.327840  Cluster 1\n",
      "11                          Indonesia   3.399592  Cluster 1\n",
      "12                           Kiribati   3.620721  Cluster 1\n",
      "13                          Nicaragua   3.792852  Cluster 1\n",
      "14                           Honduras   3.794434  Cluster 1\n",
      "15                              Ghana   4.431473  Cluster 1\n",
      "16                               Oman   4.837050  Cluster 1\n",
      "17                              India   4.866179  Cluster 1\n",
      "18                            Morocco   5.239305  Cluster 1\n",
      "19                              Egypt   5.577003  Cluster 1\n",
      "20                               Iran   5.596126  Cluster 1\n",
      "21              Sao Tome and Principe   5.651220  Cluster 1\n",
      "22                          Guatemala   6.933232  Cluster 1\n",
      "23                              Nauru   6.945135  Cluster 1\n",
      "24                               Iraq   7.383957  Cluster 1\n",
      "25                         Bangladesh   7.476960  Cluster 1\n",
      "26                           Maldives   9.217607  Cluster 1\n",
      "27                              Palau   9.372024  Cluster 1\n",
      "28                            Bolivia   9.665968  Cluster 1\n",
      "29                              Congo   9.996222  Cluster 1\n",
      "30                        El Salvador  11.941133  Cluster 1\n",
      "31                              Kenya  12.124925  Cluster 1\n",
      "32                            Algeria  12.551252  Cluster 1\n",
      "33                       South Africa  17.779608  Cluster 1\n",
      "34                            Namibia  20.483558  Cluster 1\n",
      "35                           Botswana  22.813827  Cluster 1\n",
      "36                           Zimbabwe  41.322860  Cluster 1\n",
      "37       Democratic Republic of Congo   0.760094  Cluster 2\n",
      "38                      Guinea-Bissau   0.766037  Cluster 2\n",
      "39                           Djibouti   0.898398  Cluster 2\n",
      "40                               Chad   1.056092  Cluster 2\n",
      "41                            Nigeria   1.405756  Cluster 2\n",
      "42                         Mozambique   1.497706  Cluster 2\n",
      "43                       Burkina Faso   1.723528  Cluster 2\n",
      "44                           Ethiopia   1.732669  Cluster 2\n",
      "45                            Comoros   1.767190  Cluster 2\n",
      "46                              Haiti   1.964645  Cluster 2\n",
      "47                               Togo   1.992813  Cluster 2\n",
      "48                              Sudan   2.116587  Cluster 2\n",
      "49                            Burundi   2.116878  Cluster 2\n",
      "50                         Madagascar   2.943055  Cluster 2\n",
      "51                            Senegal   3.295490  Cluster 2\n",
      "52                            Somalia   3.491355  Cluster 2\n",
      "53                             Angola   3.755614  Cluster 2\n",
      "54                               Laos   3.756019  Cluster 2\n",
      "55                              Benin   4.601301  Cluster 2\n",
      "56                            Eritrea   4.683426  Cluster 2\n",
      "57                             Gambia   5.872968  Cluster 2\n",
      "58                              Niger   6.136577  Cluster 2\n",
      "59                             Guinea   6.340394  Cluster 2\n",
      "60                             Bhutan   6.664317  Cluster 2\n",
      "61                            Liberia   6.794739  Cluster 2\n",
      "62                               Mali   6.921045  Cluster 2\n",
      "63                             Rwanda   6.954557  Cluster 2\n",
      "64                  Equatorial Guinea   7.029477  Cluster 2\n",
      "65                             Uganda   7.804671  Cluster 2\n",
      "66                           Tanzania   7.982740  Cluster 2\n",
      "67                             Malawi   8.275268  Cluster 2\n",
      "68                        Afghanistan   9.585741  Cluster 2\n",
      "69                              Nepal  10.235293  Cluster 2\n",
      "70                        South Sudan  10.259360  Cluster 2\n",
      "71                           Cameroon  10.495799  Cluster 2\n",
      "72                     Western Sahara  11.146381  Cluster 2\n",
      "73                              Yemen  11.352239  Cluster 2\n",
      "74                       Sierra Leone  11.371554  Cluster 2\n",
      "75                      Cote d'Ivoire  12.927442  Cluster 2\n",
      "76                           Cambodia  13.074885  Cluster 2\n",
      "77                              Timor  17.785957  Cluster 2\n",
      "78           Central African Republic  18.817580  Cluster 2\n",
      "79                             Zambia  21.726153  Cluster 2\n",
      "80                            Lesotho  31.397592  Cluster 2\n",
      "81                           Eswatini  43.401397  Cluster 2\n",
      "82                             Cyprus   0.271718  Cluster 3\n",
      "83                              Spain   0.314673  Cluster 3\n",
      "84                              Japan   0.355997  Cluster 3\n",
      "85                            Denmark   0.357178  Cluster 3\n",
      "86                          Hong Kong   0.625846  Cluster 3\n",
      "87                           Slovenia   0.637442  Cluster 3\n",
      "88                            Croatia   0.820062  Cluster 3\n",
      "89                            Bermuda   0.834195  Cluster 3\n",
      "90         Saint Martin (French part)   0.866969  Cluster 3\n",
      "91                     American Samoa   0.910869  Cluster 3\n",
      "92                              Malta   0.925055  Cluster 3\n",
      "93                            Curacao   0.964412  Cluster 3\n",
      "94                         Costa Rica   0.993399  Cluster 3\n",
      "95          Sint Maarten (Dutch part)   1.016661  Cluster 3\n",
      "96       United States Virgin Islands   1.046340  Cluster 3\n",
      "97                          Singapore   1.151679  Cluster 3\n",
      "98                        Puerto Rico   1.211982  Cluster 3\n",
      "99                            Hungary   1.311886  Cluster 3\n",
      "100                          Portugal   1.316207  Cluster 3\n",
      "101                            Greece   1.373002  Cluster 3\n",
      "102                           Ireland   1.380016  Cluster 3\n",
      "103                          Slovakia   1.386748  Cluster 3\n",
      "104                            Serbia   1.396883  Cluster 3\n",
      "105   Bonaire Sint Eustatius and Saba   1.469309  Cluster 3\n",
      "106                             Aruba   1.469554  Cluster 3\n",
      "107                           Finland   1.618606  Cluster 3\n",
      "108                       Netherlands   1.662296  Cluster 3\n",
      "109                            Taiwan   1.671723  Cluster 3\n",
      "110                            Poland   1.678803  Cluster 3\n",
      "111                            Norway   1.687820  Cluster 3\n",
      "112                   Saint Barthlemy   1.697705  Cluster 3\n",
      "113                           Estonia   1.730571  Cluster 3\n",
      "114                            Latvia   1.783644  Cluster 3\n",
      "115                              Cuba   1.810988  Cluster 3\n",
      "116                        Martinique   1.924596  Cluster 3\n",
      "117                           Czechia   1.979764  Cluster 3\n",
      "118                           Vatican   1.989316  Cluster 3\n",
      "119                       Switzerland   1.994661  Cluster 3\n",
      "120                            Canada   2.101650  Cluster 3\n",
      "121                            France   2.119689  Cluster 3\n",
      "122                             Macao   2.213941  Cluster 3\n",
      "123                            Sweden   2.248991  Cluster 3\n",
      "124                           Belgium   2.250769  Cluster 3\n",
      "125         Saint Pierre and Miquelon   2.400898  Cluster 3\n",
      "126                             Italy   2.556366  Cluster 3\n",
      "127                           Romania   2.631374  Cluster 3\n",
      "128                        San Marino   2.633300  Cluster 3\n",
      "129                    United Kingdom   2.772782  Cluster 3\n",
      "130                           Iceland   2.815086  Cluster 3\n",
      "131                           Andorra   2.936647  Cluster 3\n",
      "132                           Austria   2.970333  Cluster 3\n",
      "133                           Germany   2.997655  Cluster 3\n",
      "134                        Montenegro   3.010819  Cluster 3\n",
      "135                            Israel   3.077229  Cluster 3\n",
      "136                     United States   3.131643  Cluster 3\n",
      "137                        Luxembourg   3.156304  Cluster 3\n",
      "138                         Lithuania   3.248693  Cluster 3\n",
      "139                       New Zealand   3.260307  Cluster 3\n",
      "140                          Bulgaria   3.261787  Cluster 3\n",
      "141                          Barbados   3.307188  Cluster 3\n",
      "142                         Australia   3.446738  Cluster 3\n",
      "143                           Uruguay   3.447520  Cluster 3\n",
      "144                         Argentina   3.739239  Cluster 3\n",
      "145                            Monaco   3.930141  Cluster 3\n",
      "146               Antigua and Barbuda   4.024404  Cluster 3\n",
      "147                         Gibraltar   4.312750  Cluster 3\n",
      "148                       Isle of Man   4.579147  Cluster 3\n",
      "149                          Guernsey   4.580631  Cluster 3\n",
      "150                    Faeroe Islands   5.134420  Cluster 3\n",
      "151          Northern Mariana Islands   5.309498  Cluster 3\n",
      "152                            Jersey   5.343503  Cluster 3\n",
      "153                     Liechtenstein   5.779567  Cluster 3\n",
      "154                      Saint Helena   5.981416  Cluster 3\n",
      "155                           Ukraine   7.534191  Cluster 3\n",
      "156                           Belarus   8.750046  Cluster 3\n",
      "157                          Thailand   0.306948  Cluster 4\n",
      "158                           Reunion   0.384942  Cluster 4\n",
      "159                           Grenada   0.435593  Cluster 4\n",
      "160                             Tonga   0.593285  Cluster 4\n",
      "161                        Montserrat   0.627287  Cluster 4\n",
      "162                        Guadeloupe   0.630583  Cluster 4\n",
      "163                     French Guiana   0.632508  Cluster 4\n",
      "164                        Kyrgyzstan   0.666729  Cluster 4\n",
      "165                        Uzbekistan   0.749648  Cluster 4\n",
      "166                         Venezuela   0.752985  Cluster 4\n",
      "167                              Fiji   0.761601  Cluster 4\n",
      "168                           Georgia   0.775935  Cluster 4\n",
      "169                            Panama   0.973514  Cluster 4\n",
      "170                      Turkmenistan   0.992317  Cluster 4\n",
      "171                            Brunei   1.009997  Cluster 4\n",
      "172                           Mayotte   1.050029  Cluster 4\n",
      "173                           Jamaica   1.122000  Cluster 4\n",
      "174                           Moldova   1.137840  Cluster 4\n",
      "175                          Malaysia   1.300914  Cluster 4\n",
      "176            Bosnia and Herzegovina   1.305692  Cluster 4\n",
      "177              United Arab Emirates   1.589372  Cluster 4\n",
      "178                          Colombia   1.634029  Cluster 4\n",
      "179                    Cayman Islands   1.684573  Cluster 4\n",
      "180                             China   1.705215  Cluster 4\n",
      "181                             Samoa   1.879577  Cluster 4\n",
      "182                          Suriname   1.972520  Cluster 4\n",
      "183               Trinidad and Tobago   2.004090  Cluster 4\n",
      "184                        Azerbaijan   2.043024  Cluster 4\n",
      "185                       Saint Lucia   2.103685  Cluster 4\n",
      "186                            Kuwait   2.150555  Cluster 4\n",
      "187                            Guyana   2.165128  Cluster 4\n",
      "188              Micronesia (country)   2.200767  Cluster 4\n",
      "189                        Seychelles   2.261326  Cluster 4\n",
      "190                         Mauritius   2.347531  Cluster 4\n",
      "191                           Albania   2.382421  Cluster 4\n",
      "192                     New Caledonia   2.441146  Cluster 4\n",
      "193                             Qatar   2.564584  Cluster 4\n",
      "194                   North Macedonia   2.631742  Cluster 4\n",
      "195  Saint Vincent and the Grenadines   2.654540  Cluster 4\n",
      "196                           Armenia   2.736855  Cluster 4\n",
      "197                          Paraguay   2.800708  Cluster 4\n",
      "198            British Virgin Islands   2.813887  Cluster 4\n",
      "199                            Jordan   2.869966  Cluster 4\n",
      "200                Dominican Republic   2.907047  Cluster 4\n",
      "201                           Bahamas   3.048757  Cluster 4\n",
      "202                            Kosovo   3.063071  Cluster 4\n",
      "203          Turks and Caicos Islands   3.325126  Cluster 4\n",
      "204                        Kazakhstan   3.349146  Cluster 4\n",
      "205                            Turkey   3.591222  Cluster 4\n",
      "206                            Brazil   3.640207  Cluster 4\n",
      "207                           Tokelau   3.710956  Cluster 4\n",
      "208                             Chile   3.750838  Cluster 4\n",
      "209                            Mexico   3.913894  Cluster 4\n",
      "210                              Guam   3.918956  Cluster 4\n",
      "211                         Greenland   3.949371  Cluster 4\n",
      "212                           Tunisia   3.950264  Cluster 4\n",
      "213                       Philippines   4.079418  Cluster 4\n",
      "214                           Vanuatu   4.343071  Cluster 4\n",
      "215                        Cape Verde   4.392824  Cluster 4\n",
      "216                            Belize   4.540562  Cluster 4\n",
      "217                      Saudi Arabia   4.548543  Cluster 4\n",
      "218                          Anguilla   4.580873  Cluster 4\n",
      "219                       South Korea   4.585570  Cluster 4\n",
      "220                          Dominica   4.593942  Cluster 4\n",
      "221                         Sri Lanka   4.638518  Cluster 4\n",
      "222             Saint Kitts and Nevis   4.972039  Cluster 4\n",
      "223                         Palestine   5.107244  Cluster 4\n",
      "224                           Vietnam   5.367213  Cluster 4\n",
      "225                  French Polynesia   5.637968  Cluster 4\n",
      "226                           Ecuador   6.023710  Cluster 4\n",
      "227                              Niue   6.103062  Cluster 4\n",
      "228                              Peru   6.279780  Cluster 4\n",
      "229                           Bahrain   6.505166  Cluster 4\n",
      "230                      Cook Islands   7.379206  Cluster 4\n",
      "231                            Russia   8.473902  Cluster 4\n",
      "232                             Syria   8.545584  Cluster 4\n",
      "233                 Wallis and Futuna   9.497930  Cluster 4\n",
      "234                           Lebanon  11.642313  Cluster 4\n",
      "235                  Falkland Islands  12.111332  Cluster 4\n",
      "236                       North Korea  19.652722  Cluster 4\n"
     ]
    }
   ],
   "source": [
    "# Display the DataFrame for the current chunk\n",
    "with pd.option_context('display.max_rows', None, 'display.max_columns', None):\n",
    "    print(sMAPES_df)"
   ]
  },
  {
   "cell_type": "code",
   "execution_count": 10,
   "metadata": {},
   "outputs": [],
   "source": [
    "# Save the sMAPE data frame to csv\n",
    "file_path = '/work/Data-Science-Liv/Data/Holt_sMAPES_df.csv'\n",
    "sMAPES_df.to_csv(file_path, index=False)"
   ]
  },
  {
   "cell_type": "markdown",
   "metadata": {},
   "source": [
    "### Quantify general performance of the cluster modelling approach\n",
    "- Mean sMAPE across ll countries\n",
    "- Median sMAPE across all countries\n",
    "- Weighted sMAPE - accounting for the different number of countries in each cluster. Clusters with more countries are given more importance"
   ]
  },
  {
   "cell_type": "code",
   "execution_count": 11,
   "metadata": {},
   "outputs": [
    {
     "name": "stdout",
     "output_type": "stream",
     "text": [
      "Mean sMAPE: 4.625609497662408\n",
      "Median sMAPE: 2.9781210454526224\n"
     ]
    }
   ],
   "source": [
    "# Calculate overall Mean sMAPE\n",
    "mean_smape = np.mean(sMAPES_df['sMAPE'])\n",
    "print(\"Mean sMAPE:\", mean_smape)\n",
    "\n",
    "# Calculate Median sMAPE\n",
    "median_smape = np.median(sMAPES_df['sMAPE'])\n",
    "print(\"Median sMAPE:\", median_smape)\n",
    "\n",
    "# # Calculate Weighted sMAPE - doesn't work very well rn, maybe because of some extreme sMAPE values for some countries\n",
    "# weights = sMAPES_df.groupby('Cluster')['Country'].transform('count') / len(sMAPES_df)\n",
    "# weighted_smape = np.sum(sMAPES_df['sMAPE'] * weights)\n",
    "# print(\"Weighted sMAPE:\", weighted_smape)"
   ]
  },
  {
   "cell_type": "code",
   "execution_count": 70,
   "metadata": {},
   "outputs": [
    {
     "data": {
      "text/plain": [
       "Index(['Country', 'sMAPE', 'Cluster'], dtype='object')"
      ]
     },
     "execution_count": 70,
     "metadata": {},
     "output_type": "execute_result"
    }
   ],
   "source": [
    "sMAPES_df.columns"
   ]
  },
  {
   "cell_type": "markdown",
   "metadata": {},
   "source": [
    "#### Visualise"
   ]
  },
  {
   "cell_type": "code",
   "execution_count": 12,
   "metadata": {},
   "outputs": [
    {
     "data": {
      "image/png": "[encoded data removed]",
      "text/plain": [
       "<Figure size 864x576 with 4 Axes>"
      ]
     },
     "metadata": {
      "needs_background": "light"
     },
     "output_type": "display_data"
    }
   ],
   "source": [
    "import seaborn as sns\n",
    "import matplotlib.pyplot as plt\n",
    "\n",
    "# Extract cluster number from 'Cluster' column\n",
    "#sMAPES_df['Cluster'] = sMAPES_df['Cluster'].str.replace('Cluster ', '').astype(int)\n",
    "\n",
    "# Create a bar plot for each cluster\n",
    "fig, axes = plt.subplots(2, 2, figsize=(12, 8))\n",
    "axes = axes.flatten()\n",
    "\n",
    "for i, (cluster_name, countries) in enumerate(sMAPES_df.groupby('Cluster')):\n",
    "    # Extract the sMAPE values for the countries in the current cluster\n",
    "    cluster_smape_values = countries['sMAPE']\n",
    "\n",
    "    # Plot the sMAPE values for the current cluster\n",
    "    sns.barplot(x=cluster_smape_values.index, y='sMAPE', data=countries,\n",
    "                ax=axes[i], palette='viridis')\n",
    "    axes[i].set_title(f\"Cluster {cluster_name}\")\n",
    "\n",
    "    # Rotate x-axis labels for better visibility\n",
    "    axes[i].set_xticklabels([])  # Remove x-axis labels\n",
    "\n",
    "# Adjust spacing between subplots\n",
    "plt.tight_layout()\n",
    "\n",
    "# Show the plot\n",
    "plt.show()\n"
   ]
  },
  {
   "cell_type": "code",
   "execution_count": 13,
   "metadata": {},
   "outputs": [
    {
     "data": {
      "image/png": "[encoded data removed]",
      "text/plain": [
       "<Figure size 576x432 with 1 Axes>"
      ]
     },
     "metadata": {
      "needs_background": "light"
     },
     "output_type": "display_data"
    }
   ],
   "source": [
    "import seaborn as sns\n",
    "import matplotlib.pyplot as plt\n",
    "\n",
    "# Create a histogram plot of sMAPE values\n",
    "plt.figure(figsize=(8, 6))\n",
    "sns.histplot(data=sMAPES_df, x='sMAPE', kde=True, color='blue')\n",
    "\n",
    "# Calculate the mean, median, and standard deviation of sMAPE values\n",
    "mean_smape = sMAPES_df['sMAPE'].mean()\n",
    "median_smape = sMAPES_df['sMAPE'].median()\n",
    "std_smape = sMAPES_df['sMAPE'].std()\n",
    "\n",
    "# Annotate the mean, median, and standard deviation\n",
    "plt.text(0.9, 0.5, f\"Mean: {mean_smape:.2f}\\nMedian: {median_smape:.2f}\\nSD: {std_smape:.2f}\",\n",
    "         transform=plt.gca().transAxes, fontsize=12, ha='right')\n",
    "\n",
    "# Set plot labels and title\n",
    "plt.xlabel('sMAPE')\n",
    "plt.ylabel('Count')\n",
    "plt.title('Overall Distribution of sMAPEs - Cluster Model (Holt)')\n",
    "\n",
    "# Show the plot\n",
    "plt.show()\n",
    "\n"
   ]
  },
  {
   "cell_type": "code",
   "execution_count": 13,
   "metadata": {},
   "outputs": [
    {
     "data": {
      "text/plain": [
       "Index(['Country', 'sMAPE', 'Cluster'], dtype='object')"
      ]
     },
     "execution_count": 13,
     "metadata": {},
     "output_type": "execute_result"
    }
   ],
   "source": [
    "sMAPES_df.columns"
   ]
  },
  {
   "cell_type": "code",
   "execution_count": 16,
   "metadata": {},
   "outputs": [
    {
     "data": {
      "image/png": "[encoded data removed]",
      "text/plain": [
       "<Figure size 576x432 with 1 Axes>"
      ]
     },
     "metadata": {
      "needs_background": "light"
     },
     "output_type": "display_data"
    }
   ],
   "source": [
    "import matplotlib.pyplot as plt\n",
    "import seaborn as sns\n",
    "\n",
    "# Create a histogram plot of sMAPE values\n",
    "plt.figure(figsize=(8, 6))\n",
    "sns.histplot(data=sMAPES_df, x='sMAPE', kde=True, color='blue')\n",
    "\n",
    "# Set plot labels and title\n",
    "plt.xlabel('sMAPE')\n",
    "plt.ylabel('Count')\n",
    "\n",
    "# Add model name and statistics as title and subtitle\n",
    "name = \"Cluster Model - Holt's Linear Trend\"  # Replace \"Your Model\" with your actual model name\n",
    "smapes = sMAPES_df['sMAPE']  # Assuming sMAPES_df contains the sMAPE values\n",
    "subtitle = \"Median sMAPE: {:.3f} and mean sMAPE: {:.2f} +- {:.2f}\".format(np.median(smapes), np.mean(smapes), np.std(smapes))\n",
    "plt.title(\"Model: {}\".format(name), y=1.05)\n",
    "plt.text(0.5, 1.03, subtitle, ha='center', va='center', transform=plt.gca().transAxes, fontsize=10)\n",
    "\n",
    "# Show the plot\n",
    "plt.show()\n"
   ]
  },
  {
   "cell_type": "code",
   "execution_count": 17,
   "metadata": {},
   "outputs": [
    {
     "data": {
      "image/png": "[encoded data removed]",
      "text/plain": [
       "<Figure size 864x576 with 4 Axes>"
      ]
     },
     "metadata": {
      "needs_background": "light"
     },
     "output_type": "display_data"
    }
   ],
   "source": [
    "import seaborn as sns\n",
    "import matplotlib.pyplot as plt\n",
    "\n",
    "# Extract cluster number from 'Cluster' column\n",
    "#sMAPES_df['Cluster'] = sMAPES_df['Cluster'].str.replace('Cluster ', '').astype(int)\n",
    "\n",
    "# Create a histogram plot for each cluster\n",
    "fig, axes = plt.subplots(2, 2, figsize=(12, 8))\n",
    "axes = axes.flatten()\n",
    "\n",
    "# Define a color palette with a color for each cluster\n",
    "color_palette = sns.color_palette('tab10', len(sMAPES_df['Cluster'].unique()))\n",
    "\n",
    "for i, (cluster_name, countries) in enumerate(sMAPES_df.groupby('Cluster')):\n",
    "    # Extract the sMAPE values for the current cluster\n",
    "    cluster_smape_values = countries['sMAPE']\n",
    "\n",
    "    # Plot the distribution of sMAPE values for the current cluster\n",
    "    ax = sns.histplot(cluster_smape_values, ax=axes[i], kde=True, color=color_palette[i])\n",
    "    ax.set_title(f\"Cluster {cluster_name}\")\n",
    "    ax.set_xlabel('sMAPE')\n",
    "\n",
    "    # Calculate and annotate the mean, median, and standard deviation of sMAPE values\n",
    "    mean_smape = cluster_smape_values.mean()\n",
    "    median_smape = cluster_smape_values.median()\n",
    "    std_smape = cluster_smape_values.std()\n",
    "    ax.text(0.9, 0.5, f\"Mean: {mean_smape:.2f}\\nMedian: {median_smape:.2f}\\nSD: {std_smape:.2f}\",\n",
    "            transform=ax.transAxes, fontsize=10, ha='right')\n",
    "\n",
    "# Adjust spacing between subplots\n",
    "plt.tight_layout()\n",
    "\n",
    "# Show the plot\n",
    "plt.show()\n"
   ]
  },
  {
   "cell_type": "markdown",
   "metadata": {},
   "source": [
    "### Extract the countries with the highest sMAPE values"
   ]
  },
  {
   "cell_type": "markdown",
   "metadata": {},
   "source": [
    "#### Overall"
   ]
  },
  {
   "cell_type": "code",
   "execution_count": 101,
   "metadata": {},
   "outputs": [
    {
     "name": "stdout",
     "output_type": "stream",
     "text": [
      "     Country      sMAPE  Cluster\n",
      "36  Zimbabwe  40.384851        1\n",
      "81  Eswatini  39.719938        2\n",
      "80   Lesotho  27.819221        2\n",
      "35  Botswana  22.079210        1\n",
      "34   Namibia  19.725942        1\n"
     ]
    }
   ],
   "source": [
    "# In total - shows that these are all in cluser 1 and 2\n",
    "# Sort the DataFrame by sMAPE values in descending order\n",
    "sorted_df = sMAPES_df.sort_values('sMAPE', ascending=False)\n",
    "\n",
    "# Extract the top 5 countries and their sMAPE values\n",
    "top_countries = sorted_df.head(5)[['Country', 'sMAPE', 'Cluster']]\n",
    "\n",
    "# Display the top 5 countries and their sMAPE values\n",
    "print(top_countries)\n"
   ]
  },
  {
   "cell_type": "markdown",
   "metadata": {},
   "source": [
    "#### In cluster 3 and 4"
   ]
  },
  {
   "cell_type": "code",
   "execution_count": 109,
   "metadata": {},
   "outputs": [
    {
     "name": "stdout",
     "output_type": "stream",
     "text": [
      "               Country      sMAPE  Cluster\n",
      "236        North Korea  18.916730        4\n",
      "235   Falkland Islands  12.590558        4\n",
      "234            Lebanon  12.124710        4\n",
      "233  Wallis and Futuna   9.999090        4\n",
      "232              Syria   9.135370        4\n"
     ]
    }
   ],
   "source": [
    "# In cluyster 3 and 4\n",
    "# Filter the DataFrame to include only cluster 3 and 4\n",
    "filtered_df = sMAPES_df[sMAPES_df['Cluster'].isin([3, 4])]\n",
    "\n",
    "# Sort the DataFrame by sMAPE values in descending order\n",
    "sorted_df = filtered_df.sort_values('sMAPE', ascending=False)\n",
    "\n",
    "# Select the top 5 countries with the highest sMAPE values\n",
    "top_countries = sorted_df.head(5)\n",
    "\n",
    "# Display the top 5 countries\n",
    "print(top_countries[['Country', 'sMAPE','Cluster']])\n"
   ]
  },
  {
   "cell_type": "markdown",
   "metadata": {},
   "source": [
    "#### Minimum and maximum per cluster"
   ]
  },
  {
   "cell_type": "code",
   "execution_count": 110,
   "metadata": {},
   "outputs": [
    {
     "name": "stdout",
     "output_type": "stream",
     "text": [
      "Minimum sMAPE per cluster:\n",
      "Cluster\n",
      "1    0.625301\n",
      "2    0.523007\n",
      "3    0.262442\n",
      "4    0.293298\n",
      "Name: sMAPE, dtype: float64\n",
      "\n",
      "Maximum sMAPE per cluster:\n",
      "Cluster\n",
      "1    40.384851\n",
      "2    39.719938\n",
      "3     8.782073\n",
      "4    18.916730\n",
      "Name: sMAPE, dtype: float64\n"
     ]
    }
   ],
   "source": [
    "# Min and max per cluster\n",
    "# Group the DataFrame by 'Cluster' and calculate the minimum and maximum sMAPE values\n",
    "min_smape_per_cluster = sMAPES_df.groupby('Cluster')['sMAPE'].min()\n",
    "max_smape_per_cluster = sMAPES_df.groupby('Cluster')['sMAPE'].max()\n",
    "\n",
    "# Display the minimum and maximum sMAPE values per cluster\n",
    "print(\"Minimum sMAPE per cluster:\")\n",
    "print(min_smape_per_cluster)\n",
    "print()\n",
    "print(\"Maximum sMAPE per cluster:\")\n",
    "print(max_smape_per_cluster)\n"
   ]
  },
  {
   "cell_type": "markdown",
   "metadata": {},
   "source": [
    "#### Overall best performance (lowest sMAPE)"
   ]
  },
  {
   "cell_type": "code",
   "execution_count": 117,
   "metadata": {},
   "outputs": [
    {
     "name": "stdout",
     "output_type": "stream",
     "text": [
      "        Country     sMAPE  Cluster\n",
      "82        Japan  0.262442        3\n",
      "157  Montserrat  0.293298        4\n",
      "83       Cyprus  0.348517        3\n",
      "84        Spain  0.412241        3\n",
      "158        Fiji  0.471907        4\n"
     ]
    }
   ],
   "source": [
    "# In total - shows that these are all in cluser 1 and 2\n",
    "# Sort the DataFrame by sMAPE values in descending order\n",
    "sorted_df = sMAPES_df.sort_values('sMAPE', ascending=True)\n",
    "\n",
    "# Extract the top 5 countries and their sMAPE values\n",
    "top_countries = sorted_df.head(5)[['Country', 'sMAPE', 'Cluster']]\n",
    "\n",
    "# Display the top 5 countries and their sMAPE values\n",
    "print(top_countries)"
   ]
  },
  {
   "cell_type": "markdown",
   "metadata": {},
   "source": [
    "#### Now doing it for cluster 1 and 2"
   ]
  },
  {
   "cell_type": "code",
   "execution_count": 118,
   "metadata": {},
   "outputs": [
    {
     "name": "stdout",
     "output_type": "stream",
     "text": [
      "            Country     sMAPE  Cluster\n",
      "37             Togo  0.523007        2\n",
      "0   Solomon Islands  0.625301        1\n",
      "38     Burkina Faso  0.900543        2\n",
      "39            Haiti  0.950557        2\n",
      "1        Mauritania  1.046852        1\n"
     ]
    }
   ],
   "source": [
    "# In cluyster 3 and 4\n",
    "# Filter the DataFrame to include only cluster 3 and 4\n",
    "filtered_df = sMAPES_df[sMAPES_df['Cluster'].isin([1, 2])]\n",
    "\n",
    "# Sort the DataFrame by sMAPE values in descending order\n",
    "sorted_df = filtered_df.sort_values('sMAPE', ascending=True)\n",
    "\n",
    "# Select the top 5 countries with the highest sMAPE values\n",
    "top_countries = sorted_df.head(5)\n",
    "\n",
    "# Display the top 5 countries\n",
    "print(top_countries[['Country', 'sMAPE','Cluster']])"
   ]
  },
  {
   "cell_type": "code",
   "execution_count": null,
   "metadata": {},
   "outputs": [],
   "source": []
  }
 ],
 "metadata": {
  "interpreter": {
   "hash": "31f2aee4e71d21fbe5cf8b01ff0e069b9275f58929596ceb00d14d90e3e16cd6"
  },
  "kernelspec": {
   "display_name": "Python 3.9.2 64-bit",
   "language": "python",
   "name": "python3"
  },
  "language_info": {
   "codemirror_mode": {
    "name": "ipython",
    "version": 3
   },
   "file_extension": ".py",
   "mimetype": "text/x-python",
   "name": "python",
   "nbconvert_exporter": "python",
   "pygments_lexer": "ipython3",
   "version": "3.9.2"
  },
  "orig_nbformat": 4
 },
 "nbformat": 4,
 "nbformat_minor": 2
}
