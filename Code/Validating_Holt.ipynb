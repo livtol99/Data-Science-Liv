{
 "cells": [
  {
   "cell_type": "markdown",
   "metadata": {},
   "source": [
    "# Validating Cluster Model Performance"
   ]
  },
  {
   "cell_type": "markdown",
   "metadata": {},
   "source": [
    "#### Install and import packages\n"
   ]
  },
  {
   "cell_type": "code",
   "execution_count": 1,
   "metadata": {},
   "outputs": [],
   "source": [
    "#Imports\n",
    "\n",
    "# multiprocessing\n",
    "from joblib import Parallel, delayed\n",
    "\n",
    "# data manipulation\n",
    "import numpy as np\n",
    "import pandas as pd\n",
    "import heapq\n",
    "\n",
    "# data visualization\n",
    "import matplotlib.pyplot as plt\n",
    "%matplotlib inline\n",
    "import seaborn as sns\n",
    "from tqdm import tqdm\n",
    "\n",
    "#hmm needed? \n",
    "import torch\n",
    "import torch.nn as nn\n",
    "#from torch import nn\n",
    "import torch.optim as optim\n",
    "import shutil\n",
    "import sklearn\n",
    "from sklearn.preprocessing import MinMaxScaler\n",
    "#from tqdm import tqdm_notebook as tqdm\n",
    "\n",
    "#darts\n",
    "# transformers and preprocessing\n",
    "import darts\n",
    "from darts import TimeSeries\n",
    "from darts.dataprocessing.transformers import Scaler\n",
    "from darts.utils.utils import SeasonalityMode, TrendMode, ModelMode\n",
    "from darts.utils.statistics import check_seasonality, plot_acf\n",
    "from darts.utils.timeseries_generation import datetime_attribute_timeseries\n",
    "from darts.models import * #everything\n",
    "\n",
    "#loss metrics\n",
    "from darts.metrics import mape\n",
    "from darts.metrics import smape\n",
    "from darts.utils.losses import SmapeLoss\n",
    "\n",
    "# likelihood\n",
    "from darts.utils.likelihood_models import GaussianLikelihood\n",
    "\n",
    "# settings\n",
    "import warnings\n",
    "warnings.filterwarnings(\"ignore\")\n",
    "import logging\n",
    "logging.disable(logging.CRITICAL)\n",
    "\n",
    "\n",
    "#extras\n",
    "import os\n",
    "import time\n",
    "import random\n",
    "from datetime import datetime\n",
    "from itertools import product\n",
    "from typing import List, Tuple, Dict\n",
    "from sklearn.preprocessing import MaxAbsScaler\n",
    "from sklearn.linear_model import Ridge\n",
    "import glob"
   ]
  },
  {
   "cell_type": "code",
   "execution_count": 3,
   "metadata": {},
   "outputs": [],
   "source": [
    "cl1 = pd.read_csv('/work/Data-Science-Liv/Data/holt_cluster_forecasts/holt_forecasts_cluster0.csv', parse_dates=['ds'])\n",
    "cl2 = pd.read_csv('/work/Data-Science-Liv/Data/holt_cluster_forecasts/holt_forecasts_cluster1.csv', parse_dates=['ds'])\n",
    "cl3 = pd.read_csv('/work/Data-Science-Liv/Data/holt_cluster_forecasts/holt_forecasts_cluster2.csv', parse_dates=['ds'])\n",
    "cl4 = pd.read_csv('/work/Data-Science-Liv/Data/holt_cluster_forecasts/holt_forecasts_cluster3.csv', parse_dates=['ds'])\n"
   ]
  },
  {
   "cell_type": "markdown",
   "metadata": {},
   "source": [
    "#### Data inspection\n",
    "- Removing NA rows from years included in the training set\n",
    "- Making sure the year span is correct\n",
    "- Checking the unique countries in each cluster"
   ]
  },
  {
   "cell_type": "code",
   "execution_count": 4,
   "metadata": {},
   "outputs": [],
   "source": [
    "#Remove rows with NAs - these rows represent the first years in the data that were used for training. Here we only have the test forecasts\n",
    "cl1 = cl1.dropna(subset=['final_prediction'])\n",
    "cl2 = cl2.dropna(subset=['final_prediction'])\n",
    "cl3 = cl3.dropna(subset=['final_prediction'])\n",
    "cl4 = cl4.dropna(subset=['final_prediction'])"
   ]
  },
  {
   "cell_type": "code",
   "execution_count": 5,
   "metadata": {},
   "outputs": [
    {
     "name": "stdout",
     "output_type": "stream",
     "text": [
      "No NA values found in any of the data frames.\n"
     ]
    }
   ],
   "source": [
    "#Are there any NAs in the dfs now?\n",
    "data_frames = [cl1, cl2, cl3, cl4]\n",
    "\n",
    "# Check if any of the data frames contain NAs\n",
    "for df in data_frames:\n",
    "    if df.isna().any().any():\n",
    "        print(f\"At least one NA value found in DataFrame {df}.\")\n",
    "        break\n",
    "else:\n",
    "    print(\"No NA values found in any of the data frames.\")\n",
    "\n",
    "# There are no NAs in the dfs now\n"
   ]
  },
  {
   "cell_type": "code",
   "execution_count": 6,
   "metadata": {},
   "outputs": [
    {
     "name": "stdout",
     "output_type": "stream",
     "text": [
      "No common countries found among the data frames.\n"
     ]
    }
   ],
   "source": [
    "# Are there overlapping countries in the data frames?\n",
    "data_frames = [cl1, cl2, cl3, cl4]\n",
    "common_countries = set()\n",
    "\n",
    "# Compare unique countries pairwise between data frames\n",
    "for i in range(len(data_frames)):\n",
    "    for j in range(i+1, len(data_frames)):\n",
    "        countries_i = set(data_frames[i]['Country'].unique())\n",
    "        countries_j = set(data_frames[j]['Country'].unique())\n",
    "        \n",
    "        if countries_i & countries_j:  # Check if there are common countries\n",
    "            common_countries.update(countries_i & countries_j)\n",
    "\n",
    "# Check if there are any common countries among the data frames\n",
    "if common_countries:\n",
    "    print(\"At least two data frames have common countries.\")\n",
    "else:\n",
    "    print(\"No common countries found among the data frames.\")\n",
    "\n",
    "\n",
    "#The clusters do not contain the same countries"
   ]
  },
  {
   "cell_type": "code",
   "execution_count": 7,
   "metadata": {},
   "outputs": [
    {
     "name": "stdout",
     "output_type": "stream",
     "text": [
      "Same unique years: True\n",
      "Time range: 2012-01-01 00:00:00 - 2021-01-01 00:00:00\n"
     ]
    }
   ],
   "source": [
    "# # Checking the years over which the data span and if they are the same\n",
    "data_frames = [cl1, cl2, cl3, cl4]\n",
    "\n",
    "unique_years = [set(df['ds'].dt.year.unique()) for df in data_frames]\n",
    "same_unique_years = all(years == unique_years[0] for years in unique_years)\n",
    "\n",
    "min_dates = [df['ds'].min() for df in data_frames]\n",
    "max_dates = [df['ds'].max() for df in data_frames]\n",
    "same_time_range = all(date == min_dates[0] for date in min_dates) and all(date == max_dates[0] for date in max_dates)\n",
    "\n",
    "time_range = f\"{min_dates[0]} - {max_dates[0]}\"\n",
    "\n",
    "print(\"Same unique years:\", same_unique_years)\n",
    "print(\"Time range:\", time_range)\n",
    "\n",
    "\n"
   ]
  },
  {
   "cell_type": "markdown",
   "metadata": {},
   "source": [
    "### This is where the validation goes down\n",
    "- sMAPE\n",
    "\n",
    "Symmetric mean absolute percentage error (SMAPE or sMAPE) is an accuracy measure based on percentage (or relative) errors.\n",
    "It is a metric used to evaluate the accuracy of a forecasting model or compare the performance of different forecasting models."
   ]
  },
  {
   "cell_type": "markdown",
   "metadata": {},
   "source": [
    "#### Calculating sMAPES per country"
   ]
  },
  {
   "cell_type": "code",
   "execution_count": 8,
   "metadata": {},
   "outputs": [],
   "source": [
    "data_frames = [cl1, cl2, cl3, cl4]\n",
    "\n",
    "#Initialise empty lists to store the sMAPE values per country, and their names to use when creating  the final output\n",
    "smape_values_per_dataset = []\n",
    "country_names_per_dataset = []\n",
    "\n",
    "for data_set in data_frames:\n",
    "    smape_values_per_country = []\n",
    "    country_names = []\n",
    "\n",
    "    for country in data_set['Country'].unique():\n",
    "        country_data = data_set[data_set['Country'] == country]\n",
    "        forecast_series = TimeSeries.from_dataframe(country_data, time_col='ds', value_cols='final_prediction')\n",
    "        actual_series = TimeSeries.from_dataframe(country_data, time_col='ds', value_cols='y_tst')\n",
    "        sMAPE_value = smape(forecast_series, actual_series)\n",
    "        smape_values_per_country.append(sMAPE_value)\n",
    "        country_names.append(country)\n",
    "\n",
    "    # Sort the country names and sMAPE values based on sMAPE values in ascending order\n",
    "    sorted_data = sorted(zip(country_names, smape_values_per_country), key=lambda x: x[1])\n",
    "\n",
    "    # Unzip the sorted data to separate country names and sMAPE values\n",
    "    sorted_country_names, sorted_smape_values = zip(*sorted_data)\n",
    "\n",
    "    smape_values_per_dataset.append(sorted_smape_values)\n",
    "    country_names_per_dataset.append(sorted_country_names)\n",
    "\n",
    "# Create a new dataframe to store the results\n",
    "sMAPES_df = pd.DataFrame()\n",
    "\n",
    "for i, smape_values in enumerate(smape_values_per_dataset):\n",
    "    cluster_name = f\"Cluster {i+1}\"\n",
    "    cluster_countries = country_names_per_dataset[i]\n",
    "\n",
    "    # Create a temporary dataframe to store the cluster's results\n",
    "    temp_df = pd.DataFrame({'Country': cluster_countries, 'sMAPE': smape_values, 'Cluster': cluster_name})\n",
    "\n",
    "    # Append the temporary dataframe to the output dataframe\n",
    "    sMAPES_df = sMAPES_df.append(temp_df, ignore_index=True)\n"
   ]
  },
  {
   "cell_type": "code",
   "execution_count": 9,
   "metadata": {},
   "outputs": [],
   "source": [
    "# Save the sMAPE data frame to csv\n",
    "file_path = '/work/Data-Science-Liv/Data/Holt_sMAPES_df.csv'\n",
    "sMAPES_df.to_csv(file_path, index=False)"
   ]
  },
  {
   "cell_type": "markdown",
   "metadata": {},
   "source": [
    "### Quantify general performance of the cluster modelling approach\n",
    "- Mean sMAPE across ll countries\n",
    "- Median sMAPE across all countries\n",
    "- Weighted sMAPE - accounting for the different number of countries in each cluster. Clusters with more countries are given more importance"
   ]
  },
  {
   "cell_type": "code",
   "execution_count": 10,
   "metadata": {},
   "outputs": [
    {
     "name": "stdout",
     "output_type": "stream",
     "text": [
      "Mean sMAPE: 4.625609497662408\n",
      "Median sMAPE: 2.9781210454526224\n"
     ]
    }
   ],
   "source": [
    "# Calculate overall Mean sMAPE\n",
    "mean_smape = np.mean(sMAPES_df['sMAPE'])\n",
    "print(\"Mean sMAPE:\", mean_smape)\n",
    "\n",
    "# Calculate Median sMAPE\n",
    "median_smape = np.median(sMAPES_df['sMAPE'])\n",
    "print(\"Median sMAPE:\", median_smape)\n",
    "\n",
    "# # Calculate Weighted sMAPE - doesn't work very well rn, maybe because of some extreme sMAPE values for some countries\n",
    "# weights = sMAPES_df.groupby('Cluster')['Country'].transform('count') / len(sMAPES_df)\n",
    "# weighted_smape = np.sum(sMAPES_df['sMAPE'] * weights)\n",
    "# print(\"Weighted sMAPE:\", weighted_smape)"
   ]
  },
  {
   "cell_type": "markdown",
   "metadata": {},
   "source": [
    "#### Visualise"
   ]
  },
  {
   "cell_type": "code",
   "execution_count": 13,
   "metadata": {},
   "outputs": [
    {
     "data": {
      "image/png": "[encoded data removed]",
      "text/plain": [
       "<Figure size 576x432 with 1 Axes>"
      ]
     },
     "metadata": {
      "needs_background": "light"
     },
     "output_type": "display_data"
    }
   ],
   "source": [
    "import matplotlib.pyplot as plt\n",
    "import seaborn as sns\n",
    "\n",
    "# Create a histogram plot of sMAPE values\n",
    "plt.figure(figsize=(8, 6))\n",
    "sns.histplot(data=sMAPES_df, x='sMAPE', kde=True, color='blue')\n",
    "\n",
    "# Set plot labels and title\n",
    "plt.xlabel('sMAPE')\n",
    "plt.ylabel('Count')\n",
    "\n",
    "# Add model name and statistics as title and subtitle\n",
    "name = \"Cluster Model - Holt's Linear Trend\"  # Replace \"Your Model\" with your actual model name\n",
    "smapes = sMAPES_df['sMAPE']  # Assuming sMAPES_df contains the sMAPE values\n",
    "subtitle = \"Median sMAPE: {:.3f} and mean sMAPE: {:.2f} +- {:.2f}\".format(np.median(smapes), np.mean(smapes), np.std(smapes))\n",
    "plt.title(\"Model: {}\".format(name), y=1.05)\n",
    "plt.text(0.5, 1.03, subtitle, ha='center', va='center', transform=plt.gca().transAxes, fontsize=10)\n",
    "\n",
    "# Show the plot\n",
    "plt.show()\n"
   ]
  },
  {
   "cell_type": "code",
   "execution_count": 14,
   "metadata": {},
   "outputs": [
    {
     "data": {
      "image/png": "[encoded data removed]",
      "text/plain": [
       "<Figure size 864x576 with 4 Axes>"
      ]
     },
     "metadata": {
      "needs_background": "light"
     },
     "output_type": "display_data"
    }
   ],
   "source": [
    "# Create a histogram plot for each cluster\n",
    "fig, axes = plt.subplots(2, 2, figsize=(12, 8))\n",
    "axes = axes.flatten()\n",
    "\n",
    "# Define a color palette with a color for each cluster\n",
    "color_palette = sns.color_palette('tab10', len(sMAPES_df['Cluster'].unique()))\n",
    "\n",
    "for i, (cluster_name, countries) in enumerate(sMAPES_df.groupby('Cluster')):\n",
    "    # Extract the sMAPE values for the current cluster\n",
    "    cluster_smape_values = countries['sMAPE']\n",
    "\n",
    "    # Plot the distribution of sMAPE values for the current cluster\n",
    "    ax = sns.histplot(cluster_smape_values, ax=axes[i], kde=True, color=color_palette[i])\n",
    "    ax.set_title(f\"Cluster {cluster_name}\")\n",
    "    ax.set_xlabel('sMAPE')\n",
    "\n",
    "    # Calculate and annotate the mean, median, and standard deviation of sMAPE values\n",
    "    mean_smape = cluster_smape_values.mean()\n",
    "    median_smape = cluster_smape_values.median()\n",
    "    std_smape = cluster_smape_values.std()\n",
    "    ax.text(0.9, 0.5, f\"Mean: {mean_smape:.2f}\\nMedian: {median_smape:.2f}\\nSD: {std_smape:.2f}\",\n",
    "            transform=ax.transAxes, fontsize=10, ha='right')\n",
    "\n",
    "# Adjust spacing between subplots\n",
    "plt.tight_layout()\n",
    "\n",
    "# Show the plot\n",
    "plt.show()\n"
   ]
  },
  {
   "cell_type": "markdown",
   "metadata": {},
   "source": [
    "### Extract the countries with the highest sMAPE values"
   ]
  },
  {
   "cell_type": "markdown",
   "metadata": {},
   "source": [
    "#### Overall"
   ]
  },
  {
   "cell_type": "code",
   "execution_count": 15,
   "metadata": {},
   "outputs": [
    {
     "name": "stdout",
     "output_type": "stream",
     "text": [
      "     Country      sMAPE    Cluster\n",
      "81  Eswatini  43.401397  Cluster 2\n",
      "36  Zimbabwe  41.322860  Cluster 1\n",
      "80   Lesotho  31.397592  Cluster 2\n",
      "35  Botswana  22.813827  Cluster 1\n",
      "79    Zambia  21.726153  Cluster 2\n"
     ]
    }
   ],
   "source": [
    "# In total - shows that these are all in cluser 1 and 2\n",
    "# Sort the DataFrame by sMAPE values in descending order\n",
    "sorted_df = sMAPES_df.sort_values('sMAPE', ascending=False)\n",
    "\n",
    "# Extract the top 5 countries and their sMAPE values\n",
    "top_countries = sorted_df.head(5)[['Country', 'sMAPE', 'Cluster']]\n",
    "\n",
    "# Display the top 5 countries and their sMAPE values\n",
    "print(top_countries)\n"
   ]
  },
  {
   "cell_type": "markdown",
   "metadata": {},
   "source": [
    "#### In cluster 3 and 4"
   ]
  },
  {
   "cell_type": "code",
   "execution_count": 16,
   "metadata": {},
   "outputs": [
    {
     "name": "stdout",
     "output_type": "stream",
     "text": [
      "Empty DataFrame\n",
      "Columns: [Country, sMAPE, Cluster]\n",
      "Index: []\n"
     ]
    }
   ],
   "source": [
    "# In cluyster 3 and 4\n",
    "# Filter the DataFrame to include only cluster 3 and 4\n",
    "filtered_df = sMAPES_df[sMAPES_df['Cluster'].isin([3, 4])]\n",
    "\n",
    "# Sort the DataFrame by sMAPE values in descending order\n",
    "sorted_df = filtered_df.sort_values('sMAPE', ascending=False)\n",
    "\n",
    "# Select the top 5 countries with the highest sMAPE values\n",
    "top_countries = sorted_df.head(5)\n",
    "\n",
    "# Display the top 5 countries\n",
    "print(top_countries[['Country', 'sMAPE','Cluster']])\n"
   ]
  },
  {
   "cell_type": "markdown",
   "metadata": {},
   "source": [
    "#### Minimum and maximum per cluster"
   ]
  },
  {
   "cell_type": "code",
   "execution_count": 17,
   "metadata": {},
   "outputs": [
    {
     "name": "stdout",
     "output_type": "stream",
     "text": [
      "Minimum sMAPE per cluster:\n",
      "Cluster\n",
      "Cluster 1    0.629244\n",
      "Cluster 2    0.760094\n",
      "Cluster 3    0.271718\n",
      "Cluster 4    0.306948\n",
      "Name: sMAPE, dtype: float64\n",
      "\n",
      "Maximum sMAPE per cluster:\n",
      "Cluster\n",
      "Cluster 1    41.322860\n",
      "Cluster 2    43.401397\n",
      "Cluster 3     8.750046\n",
      "Cluster 4    19.652722\n",
      "Name: sMAPE, dtype: float64\n"
     ]
    }
   ],
   "source": [
    "# Min and max per cluster\n",
    "# Group the DataFrame by 'Cluster' and calculate the minimum and maximum sMAPE values\n",
    "min_smape_per_cluster = sMAPES_df.groupby('Cluster')['sMAPE'].min()\n",
    "max_smape_per_cluster = sMAPES_df.groupby('Cluster')['sMAPE'].max()\n",
    "\n",
    "# Display the minimum and maximum sMAPE values per cluster\n",
    "print(\"Minimum sMAPE per cluster:\")\n",
    "print(min_smape_per_cluster)\n",
    "print()\n",
    "print(\"Maximum sMAPE per cluster:\")\n",
    "print(max_smape_per_cluster)\n"
   ]
  },
  {
   "cell_type": "markdown",
   "metadata": {},
   "source": [
    "#### Overall best performance (lowest sMAPE)"
   ]
  },
  {
   "cell_type": "code",
   "execution_count": 18,
   "metadata": {},
   "outputs": [
    {
     "name": "stdout",
     "output_type": "stream",
     "text": [
      "      Country     sMAPE    Cluster\n",
      "82     Cyprus  0.271718  Cluster 3\n",
      "157  Thailand  0.306948  Cluster 4\n",
      "83      Spain  0.314673  Cluster 3\n",
      "84      Japan  0.355997  Cluster 3\n",
      "85    Denmark  0.357178  Cluster 3\n"
     ]
    }
   ],
   "source": [
    "# In total - shows that these are all in cluser 1 and 2\n",
    "# Sort the DataFrame by sMAPE values in descending order\n",
    "sorted_df = sMAPES_df.sort_values('sMAPE', ascending=True)\n",
    "\n",
    "# Extract the top 5 countries and their sMAPE values\n",
    "top_countries = sorted_df.head(5)[['Country', 'sMAPE', 'Cluster']]\n",
    "\n",
    "# Display the top 5 countries and their sMAPE values\n",
    "print(top_countries)"
   ]
  },
  {
   "cell_type": "markdown",
   "metadata": {},
   "source": [
    "#### Now doing it for cluster 1 and 2"
   ]
  },
  {
   "cell_type": "code",
   "execution_count": 19,
   "metadata": {},
   "outputs": [
    {
     "name": "stdout",
     "output_type": "stream",
     "text": [
      "Empty DataFrame\n",
      "Columns: [Country, sMAPE, Cluster]\n",
      "Index: []\n"
     ]
    }
   ],
   "source": [
    "# In cluyster 3 and 4\n",
    "# Filter the DataFrame to include only cluster 3 and 4\n",
    "filtered_df = sMAPES_df[sMAPES_df['Cluster'].isin([1, 2])]\n",
    "\n",
    "# Sort the DataFrame by sMAPE values in descending order\n",
    "sorted_df = filtered_df.sort_values('sMAPE', ascending=True)\n",
    "\n",
    "# Select the top 5 countries with the highest sMAPE values\n",
    "top_countries = sorted_df.head(5)\n",
    "\n",
    "# Display the top 5 countries\n",
    "print(top_countries[['Country', 'sMAPE','Cluster']])"
   ]
  }
 ],
 "metadata": {
  "interpreter": {
   "hash": "31f2aee4e71d21fbe5cf8b01ff0e069b9275f58929596ceb00d14d90e3e16cd6"
  },
  "kernelspec": {
   "display_name": "Python 3.9.2 64-bit",
   "language": "python",
   "name": "python3"
  },
  "language_info": {
   "codemirror_mode": {
    "name": "ipython",
    "version": 3
   },
   "file_extension": ".py",
   "mimetype": "text/x-python",
   "name": "python",
   "nbconvert_exporter": "python",
   "pygments_lexer": "ipython3",
   "version": "3.9.2"
  },
  "orig_nbformat": 4
 },
 "nbformat": 4,
 "nbformat_minor": 2
}
